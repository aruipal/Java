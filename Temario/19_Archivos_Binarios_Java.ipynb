{
 "cells": [
  {
   "cell_type": "markdown",
   "id": "947093df",
   "metadata": {},
   "source": [
    "# Manejo de Ficheros Binarios en Java\n",
    "\n",
    "Resumen y ejemplos prácticos para clase."
   ]
  },
  {
   "cell_type": "markdown",
   "id": "95715d1a",
   "metadata": {},
   "source": [
    "## 1. Introducción\n",
    "\n",
    "Los archivos binarios permiten almacenar datos en su **forma más compacta y eficiente**, directamente como bytes. A diferencia de los archivos de texto, **no son legibles por humanos**, pero ofrecen mayor velocidad, precisión y control.\n",
    "\n",
    "Se usan comúnmente para:\n",
    "- Imágenes, audio, video\n",
    "- Archivos de configuración\n",
    "- Datos estructurados\n",
    "- Guardado de objetos y registros personalizados\n"
   ]
  },
  {
   "cell_type": "markdown",
   "id": "d33db389",
   "metadata": {},
   "source": [
    "## 2. ¿Qué es un archivo binario?\n",
    "\n",
    "Un archivo binario es una **secuencia de bytes** que representa datos directamente en su forma interna de memoria.\n",
    "\n",
    "### Ejemplos:\n",
    "- `int` = 4 bytes\n",
    "- `double` = 8 bytes\n",
    "- `char` = 2 bytes\n",
    "- `boolean` = 1 byte\n",
    "- `String` (con writeUTF) = bytes en UTF-8\n",
    "\n",
    "No contiene etiquetas ni texto legible, por lo tanto es necesario **leerlo exactamente como fue escrito**.\n"
   ]
  },
  {
   "cell_type": "markdown",
   "id": "fd7a8c0c",
   "metadata": {},
   "source": [
    "## 3. Clases clave en Java\n",
    "\n",
    "| Clase             | Función principal                         |\n",
    "|------------------|--------------------------------------------|\n",
    "| DataOutputStream | Escribe datos primitivos en binario        |\n",
    "| DataInputStream  | Lee datos primitivos desde archivo binario |\n",
    "| FileOutputStream | Crea o abre el archivo físico para escribir|\n",
    "| FileInputStream  | Abre archivo físico para lectura           |\n",
    "\n",
    "Ambas clases deben usarse en conjunto: una para escribir, otra para leer.\n"
   ]
  },
  {
   "cell_type": "markdown",
   "id": "45d854da",
   "metadata": {},
   "source": [
    "## 4. Ejemplo de escritura binaria\n",
    "\n",
    "Se guardan distintos tipos de datos en un archivo binario.\n"
   ]
  },
  {
   "cell_type": "code",
   "execution_count": null,
   "id": "4322639a",
   "metadata": {},
   "outputs": [],
   "source": [
    "import java.io.*;\n",
    "\n",
    "public class EscrituraBinaria {\n",
    "    public static void main(String[] args) {\n",
    "        try (DataOutputStream salida = new DataOutputStream(new FileOutputStream(\"datos.bin\"))) {\n",
    "            salida.writeInt(42);\n",
    "            salida.writeDouble(3.1416);\n",
    "            salida.writeBoolean(true);\n",
    "            salida.writeChar('J');\n",
    "            salida.writeUTF(\"Hola Java Binario\");\n",
    "        } catch (IOException e) {\n",
    "            System.out.println(\"Error al escribir: \" + e.getMessage());\n",
    "        }\n",
    "    }\n",
    "}"
   ]
  },
  {
   "cell_type": "markdown",
   "id": "8b14c8b5",
   "metadata": {},
   "source": [
    "## 5. Ejemplo de lectura binaria\n",
    "\n",
    "Se recuperan los datos escritos anteriormente. El orden debe coincidir.\n"
   ]
  },
  {
   "cell_type": "code",
   "execution_count": null,
   "id": "6e3bc3bf",
   "metadata": {},
   "outputs": [],
   "source": [
    "import java.io.*;\n",
    "\n",
    "public class LecturaBinaria {\n",
    "    public static void main(String[] args) {\n",
    "        try (DataInputStream entrada = new DataInputStream(new FileInputStream(\"datos.bin\"))) {\n",
    "            int numero = entrada.readInt();\n",
    "            double decimal = entrada.readDouble();\n",
    "            boolean logico = entrada.readBoolean();\n",
    "            char letra = entrada.readChar();\n",
    "            String texto = entrada.readUTF();\n",
    "\n",
    "            System.out.println(\"Entero: \" + numero);\n",
    "            System.out.println(\"Double: \" + decimal);\n",
    "            System.out.println(\"Booleano: \" + logico);\n",
    "            System.out.println(\"Carácter: \" + letra);\n",
    "            System.out.println(\"Cadena: \" + texto);\n",
    "        } catch (IOException e) {\n",
    "            System.out.println(\"Error al leer: \" + e.getMessage());\n",
    "        }\n",
    "    }\n",
    "}"
   ]
  },
  {
   "cell_type": "markdown",
   "id": "9f7663e2",
   "metadata": {},
   "source": [
    "## 6. Ventajas de los archivos binarios\n",
    "\n",
    "- ✅ **Eficiencia**: ocupan menos espacio y son más rápidos.\n",
    "- ✅ **Precisión**: no hay errores de conversión a texto.\n",
    "- ✅ **Privacidad**: no son legibles fácilmente.\n",
    "- ✅ **Formato compacto**: ideal para grandes volúmenes de datos.\n",
    "- ✅ **Reconstrucción directa**: se restauran fácilmente en memoria.\n"
   ]
  },
  {
   "cell_type": "markdown",
   "id": "8d6152b1",
   "metadata": {},
   "source": [
    "## 7. Buenas prácticas\n",
    "\n",
    "- Usa `try-with-resources` para cerrar los flujos automáticamente.\n",
    "- Respeta siempre el orden de escritura y lectura.\n",
    "- No abras archivos binarios con editores de texto.\n",
    "- Añade **cabeceras** si necesitas estructurar o versionar el contenido.\n",
    "- Documenta el formato del archivo si otros programas lo van a usar.\n",
    "- Maneja las excepciones correctamente para evitar corrupción.\n"
   ]
  },
  {
   "cell_type": "markdown",
   "id": "57fa2001",
   "metadata": {},
   "source": [
    "## 8. Conclusión\n",
    "\n",
    "El manejo de archivos binarios en Java es esencial para aplicaciones que requieren almacenar datos de forma rápida, precisa y segura. Las clases `DataOutputStream` y `DataInputStream` proporcionan una forma sencilla de trabajar con tipos primitivos y mantener la eficiencia en el almacenamiento.\n"
   ]
  }
 ],
 "metadata": {},
 "nbformat": 4,
 "nbformat_minor": 5
}
