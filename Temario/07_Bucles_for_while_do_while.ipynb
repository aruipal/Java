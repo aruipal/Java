{
  "cells": [
    {
      "cell_type": "markdown",
      "metadata": {},
      "source": [
        "# Bucles en Java: for, while, do-while\n",
        "Este notebook explora las estructuras repetitivas `for`, `while` y `do-while`, fundamentales para automatizar tareas repetitivas."
      ]
    },
    {
      "cell_type": "markdown",
      "metadata": {},
      "source": [
        "## ¿Qué es un bucle?\n",
        "Un bucle permite ejecutar repetidamente un bloque de código mientras se cumpla una condición."
      ]
    },
    {
      "cell_type": "markdown",
      "metadata": {},
      "source": [
        "## Bucle for"
      ]
    },
    {
      "cell_type": "code",
      "metadata": {},
      "source": [
        "for (int i = 1; i <= 5; i++) {\n",
        "    System.out.println(\"Iteración número: \" + i);\n",
        "}"
      ],
      "execution_count": null,
      "outputs": []
    },
    {
      "cell_type": "markdown",
      "metadata": {},
      "source": [
        "### Bucle decreciente"
      ]
    },
    {
      "cell_type": "code",
      "metadata": {},
      "source": [
        "for (int i = 10; i > 0; i--) {\n",
        "    System.out.println(\"Cuenta atrás: \" + i);\n",
        "}"
      ],
      "execution_count": null,
      "outputs": []
    },
    {
      "cell_type": "markdown",
      "metadata": {},
      "source": [
        "### Recorriendo arrays"
      ]
    },
    {
      "cell_type": "code",
      "metadata": {},
      "source": [
        "int[] numeros = {10, 20, 30, 40, 50};\n",
        "for (int i = 0; i < numeros.length; i++) {\n",
        "    System.out.println(\"Elemento: \" + numeros[i]);\n",
        "}"
      ],
      "execution_count": null,
      "outputs": []
    },
    {
      "cell_type": "markdown",
      "metadata": {},
      "source": [
        "## Bucle while"
      ]
    },
    {
      "cell_type": "code",
      "metadata": {},
      "source": [
        "int contador = 1;\n",
        "while (contador <= 5) {\n",
        "    System.out.println(\"Contador: \" + contador);\n",
        "    contador++;\n",
        "}"
      ],
      "execution_count": null,
      "outputs": []
    },
    {
      "cell_type": "markdown",
      "metadata": {},
      "source": [
        "## Bucle do-while"
      ]
    },
    {
      "cell_type": "code",
      "metadata": {},
      "source": [
        "int numero = 1;\n",
        "do {\n",
        "    System.out.println(\"Número: \" + numero);\n",
        "    numero++;\n",
        "} while (numero <= 5);"
      ],
      "execution_count": null,
      "outputs": []
    },
    {
      "cell_type": "markdown",
      "metadata": {},
      "source": [
        "# 🧠 Ejercicios Propuestos\n",
        "### 1. Usa un bucle `for` para mostrar los números del 1 al 10.\n",
        "```java\n// Tu código aquí\n```\n",
        "### 2. Escribe un bucle `while` que imprima los números pares entre 2 y 20.\n",
        "```java\n// Tu código aquí\n```\n",
        "### 3. Crea un bucle `do-while` que imprima un menú hasta que el usuario elija salir.\n",
        "```java\n// Tu código aquí\n```\n",
        "### 4. Usa un `for` para sumar los elementos de un array de enteros.\n",
        "```java\n// Tu código aquí\n```\n",
        "### 5. Declara una variable `int` y usa un `while` para restar 1 hasta llegar a 0.\n",
        "```java\n// Tu código aquí\n```"
      ]
    }
  ],
  "metadata": {
    "kernelspec": {
      "name": "java",
      "language": "java",
      "display_name": "Java"
    },
    "language_info": {
      "name": "java"
    }
  },
  "nbformat": 4,
  "nbformat_minor": 2
}