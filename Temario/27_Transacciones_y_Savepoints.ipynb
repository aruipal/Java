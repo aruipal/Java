{
 "cells": [
  {
   "cell_type": "markdown",
   "id": "4d9d1156",
   "metadata": {},
   "source": [
    "# 🔄 JDBC: Manejo de Transacciones y Puntos de Restauración"
   ]
  },
  {
   "cell_type": "markdown",
   "id": "d3b7046c",
   "metadata": {},
   "source": [
    "\n",
    "## 1. Introducción\n",
    "\n",
    "En este cuadernillo aprenderás a trabajar con transacciones en JDBC, una técnica esencial para garantizar la consistencia de los datos cuando se ejecutan múltiples operaciones relacionadas.\n",
    "\n",
    "También veremos cómo utilizar `Savepoint` para controlar partes específicas dentro de una transacción.\n"
   ]
  },
  {
   "cell_type": "markdown",
   "id": "d5fbb565",
   "metadata": {},
   "source": [
    "\n",
    "## 2. ¿Qué es una Transacción?\n",
    "\n",
    "Una transacción agrupa varias operaciones SQL para que se ejecuten como una sola unidad. Si alguna falla, todas se revierten.\n",
    "\n",
    "📌 Propiedades ACID:\n",
    "- **Atomicidad**: todo o nada.\n",
    "- **Consistencia**: los datos cumplen todas las reglas del sistema.\n",
    "- **Aislamiento**: las transacciones no interfieren entre sí.\n",
    "- **Durabilidad**: los cambios confirmados son permanentes.\n"
   ]
  },
  {
   "cell_type": "markdown",
   "id": "b6d4bafe",
   "metadata": {},
   "source": [
    "\n",
    "## 3. Transacciones en JDBC\n",
    "\n",
    "Por defecto, JDBC usa autocommit (`true`): cada sentencia se confirma automáticamente. Para agrupar operaciones:\n",
    "\n",
    "```java\n",
    "Connection conexion = DriverManager.getConnection(url, usuario, contraseña);\n",
    "conexion.setAutoCommit(false); // Desactiva auto commit\n",
    "\n",
    "try {\n",
    "    PreparedStatement ps1 = conexion.prepareStatement(\"UPDATE cuentas SET saldo = saldo - ? WHERE id = ?\");\n",
    "    ps1.setDouble(1, 100);\n",
    "    ps1.setInt(2, 1);\n",
    "    ps1.executeUpdate();\n",
    "\n",
    "    PreparedStatement ps2 = conexion.prepareStatement(\"UPDATE cuentas SET saldo = saldo + ? WHERE id = ?\");\n",
    "    ps2.setDouble(1, 100);\n",
    "    ps2.setInt(2, 2);\n",
    "    ps2.executeUpdate();\n",
    "\n",
    "    conexion.commit(); // Confirma si todo va bien\n",
    "    System.out.println(\"Transferencia realizada correctamente.\");\n",
    "} catch (SQLException e) {\n",
    "    conexion.rollback(); // Revierte si hay error\n",
    "    System.out.println(\"Error en la transacción: \" + e.getMessage());\n",
    "} finally {\n",
    "    conexion.setAutoCommit(true); // Vuelve al modo automático\n",
    "}\n",
    "```\n"
   ]
  },
  {
   "cell_type": "markdown",
   "id": "9a085ec3",
   "metadata": {},
   "source": [
    "\n",
    "## 4. Puntos de Restauración (Savepoints)\n",
    "\n",
    "Permiten deshacer parte de una transacción sin afectar todo el bloque.\n",
    "\n",
    "```java\n",
    "conexion.setAutoCommit(false);\n",
    "\n",
    "try {\n",
    "    Statement stmt = conexion.createStatement();\n",
    "    stmt.executeUpdate(\"INSERT INTO alumnos VALUES (10, 'Marta', 20, 'ASIR1')\");\n",
    "    Savepoint punto1 = conexion.setSavepoint();\n",
    "\n",
    "    stmt.executeUpdate(\"INSERT INTO alumnos VALUES (11, 'Carlos', 18, 'DAM2')\");\n",
    "    stmt.executeUpdate(\"INSERT INTO alumnos VALUES (12, 'Error', 'texto_invalido', 'DAM2')\"); // Falla\n",
    "\n",
    "    conexion.commit();\n",
    "} catch (SQLException e) {\n",
    "    System.out.println(\"Error detectado. Restaurando al punto de control...\");\n",
    "    try {\n",
    "        conexion.rollback(punto1); // Reversión parcial\n",
    "        conexion.commit();         // Confirma lo válido\n",
    "    } catch (SQLException ex) {\n",
    "        System.out.println(\"Error al hacer rollback parcial: \" + ex.getMessage());\n",
    "    }\n",
    "} finally {\n",
    "    conexion.setAutoCommit(true);\n",
    "}\n",
    "```\n"
   ]
  },
  {
   "cell_type": "markdown",
   "id": "414cf4f7",
   "metadata": {},
   "source": [
    "\n",
    "## 5. Buenas Prácticas al Usar Transacciones\n",
    "\n",
    "✅ Usa bloques `try-catch-finally`.  \n",
    "✅ Desactiva `autoCommit` solo cuando sea necesario.  \n",
    "✅ Confirma con `commit()` solo si todo se ejecutó correctamente.  \n",
    "✅ Usa `rollback()` ante errores.  \n",
    "✅ Usa `savepoint` para mantener operaciones válidas en errores parciales.  \n",
    "✅ Siempre reactiva `autoCommit` al final.  \n",
    "✅ Separa lógica de negocio y acceso a base de datos.\n"
   ]
  }
 ],
 "metadata": {},
 "nbformat": 4,
 "nbformat_minor": 5
}
