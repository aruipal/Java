{
  "cells": [
    {
      "cell_type": "markdown",
      "metadata": {},
      "source": [
        "# Manejo de Excepciones Básicas en Java\n",
        "Este notebook cubre el uso de `try`, `catch` y `finally` para manejar errores en tiempo de ejecución en Java."
      ]
    },
    {
      "cell_type": "markdown",
      "metadata": {},
      "source": [
        "## ¿Qué es una excepción?\n",
        "Una excepción es un evento inesperado que interrumpe el flujo normal del programa."
      ]
    },
    {
      "cell_type": "code",
      "metadata": {},
      "source": [
        "int resultado = 10 / 0; // Esto genera una ArithmeticException"
      ],
      "execution_count": null,
      "outputs": []
    },
    {
      "cell_type": "markdown",
      "metadata": {},
      "source": [
        "## Uso de try y catch"
      ]
    },
    {
      "cell_type": "code",
      "metadata": {},
      "source": [
        "try {\n",
        "    int resultado = 10 / 0;\n",
        "} catch (ArithmeticException e) {\n",
        "    System.out.println(\"Error: no se puede dividir por cero.\");\n",
        "}"
      ],
      "execution_count": null,
      "outputs": []
    },
    {
      "cell_type": "markdown",
      "metadata": {},
      "source": [
        "## Manejo de múltiples excepciones"
      ]
    },
    {
      "cell_type": "code",
      "metadata": {},
      "source": [
        "try {\n",
        "    int[] numeros = {1, 2, 3};\n",
        "    System.out.println(numeros[5]);\n",
        "    int resultado = 10 / 0;\n",
        "} catch (ArrayIndexOutOfBoundsException e) {\n",
        "    System.out.println(\"Error: índice fuera de rango.\");\n",
        "} catch (ArithmeticException e) {\n",
        "    System.out.println(\"Error: división por cero.\");\n",
        "}"
      ],
      "execution_count": null,
      "outputs": []
    },
    {
      "cell_type": "markdown",
      "metadata": {},
      "source": [
        "## Uso del bloque finally"
      ]
    },
    {
      "cell_type": "code",
      "metadata": {},
      "source": [
        "try {\n",
        "    int resultado = 10 / 0;\n",
        "} catch (ArithmeticException e) {\n",
        "    System.out.println(\"Se produjo un error de aritmética.\");\n",
        "} finally {\n",
        "    System.out.println(\"Bloque finally ejecutado.\");\n",
        "}"
      ],
      "execution_count": null,
      "outputs": []
    },
    {
      "cell_type": "markdown",
      "metadata": {},
      "source": [
        "## Ejemplo completo con Scanner"
      ]
    },
    {
      "cell_type": "code",
      "metadata": {},
      "source": [
        "import java.util.Scanner;\n",
        "Scanner scanner = new Scanner(System.in);\n",
        "try {\n",
        "    System.out.println(\"Introduce el primer número: \");\n",
        "    int num1 = Integer.parseInt(scanner.nextLine());\n",
        "    System.out.println(\"Introduce el segundo número: \");\n",
        "    int num2 = Integer.parseInt(scanner.nextLine());\n",
        "    int resultado = num1 / num2;\n",
        "    System.out.println(\"Resultado: \" + resultado);\n",
        "} catch (NumberFormatException e) {\n",
        "    System.out.println(\"Por favor, introduce un número válido.\");\n",
        "} catch (ArithmeticException e) {\n",
        "    System.out.println(\"No se puede dividir por cero.\");\n",
        "} finally {\n",
        "    scanner.close();\n",
        "    System.out.println(\"Recurso cerrado.\");\n",
        "}"
      ],
      "execution_count": null,
      "outputs": []
    },
    {
      "cell_type": "markdown",
      "metadata": {},
      "source": [
        "# 🧠 Ejercicios Propuestos\n",
        "### 1. Crea un bloque try-catch que capture un `NullPointerException`.\n",
        "```java\n// Tu código aquí\n```\n",
        "### 2. Escribe un programa que divida dos números y capture divisiones por cero.\n",
        "```java\n// Tu código aquí\n```\n",
        "### 3. Usa `try-catch` para manejar un error al convertir una cadena en número.\n",
        "```java\n// Tu código aquí\n```\n",
        "### 4. Añade un bloque `finally` que imprima siempre un mensaje final.\n",
        "```java\n// Tu código aquí\n```\n",
        "### 5. Crea un programa que pida al usuario un número, lo valide y lo multiplique por 10 usando `try-catch`.\n",
        "```java\n// Tu código aquí\n```"
      ]
    }
  ],
  "metadata": {
    "kernelspec": {
      "name": "java",
      "language": "java",
      "display_name": "Java"
    },
    "language_info": {
      "name": "java"
    }
  },
  "nbformat": 4,
  "nbformat_minor": 2
}