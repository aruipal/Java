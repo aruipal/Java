{
  "cells": [
    {
      "cell_type": "markdown",
      "metadata": {},
      "source": [
        "# Modificadores de Acceso y Encapsulación en Java\n",
        "Este notebook introduce los conceptos de modificadores de acceso (`private`, `public`, `protected`, `default`) y el principio de encapsulación."
      ]
    },
    {
      "cell_type": "markdown",
      "metadata": {},
      "source": [
        "## Modificadores de Acceso\n",
        "- `private`: accesible solo dentro de la misma clase.\n",
        "- `default` (sin especificar): accesible solo dentro del mismo paquete.\n",
        "- `protected`: accesible dentro del mismo paquete o subclases.\n",
        "- `public`: accesible desde cualquier clase."
      ]
    },
    {
      "cell_type": "code",
      "metadata": {},
      "source": [
        "public class Persona {\n",
        "    private String nombre;\n",
        "    private int edad;\n",
        "\n",
        "    public void mostrarInfo() {\n",
        "        System.out.println(\"Nombre: \" + nombre);\n",
        "        System.out.println(\"Edad: \" + edad);\n",
        "    }\n",
        "}"
      ],
      "execution_count": null,
      "outputs": []
    },
    {
      "cell_type": "markdown",
      "metadata": {},
      "source": [
        "## Error por acceso a campo `private`"
      ]
    },
    {
      "cell_type": "code",
      "metadata": {},
      "source": [
        "Persona p = new Persona();\n",
        "p.nombre = \"Juan\"; // Error: 'nombre' tiene acceso privado"
      ],
      "execution_count": null,
      "outputs": []
    },
    {
      "cell_type": "markdown",
      "metadata": {},
      "source": [
        "## Encapsulación con Getters y Setters"
      ]
    },
    {
      "cell_type": "code",
      "metadata": {},
      "source": [
        "public class Persona {\n",
        "    private String nombre;\n",
        "    private int edad;\n",
        "\n",
        "    public Persona(String nombre, int edad) {\n",
        "        this.nombre = nombre;\n",
        "        this.edad = edad;\n",
        "    }\n",
        "\n",
        "    public String getNombre() {\n",
        "        return nombre;\n",
        "    }\n",
        "\n",
        "    public void setNombre(String nombre) {\n",
        "        this.nombre = nombre;\n",
        "    }\n",
        "\n",
        "    public int getEdad() {\n",
        "        return edad;\n",
        "    }\n",
        "\n",
        "    public void setEdad(int edad) {\n",
        "        if (edad >= 0) {\n",
        "            this.edad = edad;\n",
        "        } else {\n",
        "            System.out.println(\"Error: La edad no puede ser negativa.\");\n",
        "        }\n",
        "    }\n",
        "}"
      ],
      "execution_count": null,
      "outputs": []
    },
    {
      "cell_type": "markdown",
      "metadata": {},
      "source": [
        "## Uso de la clase encapsulada"
      ]
    },
    {
      "cell_type": "code",
      "metadata": {},
      "source": [
        "Persona persona = new Persona(\"Juan\", 25);\n",
        "System.out.println(\"Nombre: \" + persona.getNombre());\n",
        "System.out.println(\"Edad: \" + persona.getEdad());\n",
        "\n",
        "persona.setNombre(\"Carlos\");\n",
        "persona.setEdad(30);\n",
        "persona.setEdad(-5); // Error"
      ],
      "execution_count": null,
      "outputs": []
    },
    {
      "cell_type": "markdown",
      "metadata": {},
      "source": [
        "# 🧠 Ejercicios Propuestos\n",
        "### 1. Crea una clase `Cuenta` con atributos privados `saldo` y `titular`, y métodos getter y setter.\n",
        "```java\n// Tu código aquí\n```\n",
        "### 2. Agrega validación al setter del saldo para que no acepte valores negativos.\n",
        "```java\n// Tu código aquí\n```\n",
        "### 3. Crea una clase `Estudiante` con atributos `nombre` y `nota`. Usa `private` y accede con métodos.\n",
        "```java\n// Tu código aquí\n```\n",
        "### 4. Modifica una clase `Libro` para aplicar encapsulación completa.\n",
        "```java\n// Tu código aquí\n```\n",
        "### 5. Crea una subclase `Empleado` que herede de `Persona` y acceda a atributos `protected`.\n",
        "```java\n// Tu código aquí\n```"
      ]
    }
  ],
  "metadata": {
    "kernelspec": {
      "name": "java",
      "language": "java",
      "display_name": "Java"
    },
    "language_info": {
      "name": "java"
    }
  },
  "nbformat": 4,
  "nbformat_minor": 2
}