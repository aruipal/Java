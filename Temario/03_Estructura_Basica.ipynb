{
 "cells": [
  {
   "cell_type": "markdown",
   "id": "70aac024",
   "metadata": {},
   "source": [
    "# Estructura Básica de un Programa en Java\n",
    "\n",
    "Este notebook tiene como objetivo explicar los elementos fundamentales que componen un programa en Java, cómo organizar el código, compilarlo y ejecutarlo paso a paso."
   ]
  },
  {
   "cell_type": "markdown",
   "id": "78083711",
   "metadata": {},
   "source": [
    "## 1. Elementos fundamentales de un programa Java\n",
    "Un programa típico en Java consta de los siguientes elementos:\n",
    "\n",
    "- **Package**: Organización de clases en grupos.\n",
    "- **Importaciones**: Inclusión de clases externas o estándar.\n",
    "- **Clase principal**: Punto de entrada del programa.\n",
    "- **Método `main`**: Método donde comienza la ejecución.\n",
    "- **Instrucciones**: Código que realiza las acciones."
   ]
  },
  {
   "cell_type": "markdown",
   "id": "ec2f6186",
   "metadata": {},
   "source": [
    "### 1.1 Package\n",
    "Sirve para organizar el código en proyectos grandes."
   ]
  },
  {
   "cell_type": "code",
   "execution_count": null,
   "id": "bf40ef13",
   "metadata": {},
   "outputs": [],
   "source": [
    "%%writefile HolaMundo.java\n",
    "package com.miempresa.proyecto;\n"
   ]
  },
  {
   "cell_type": "markdown",
   "id": "55c1c7bc",
   "metadata": {},
   "source": [
    "### 1.2 Importaciones\n",
    "Permiten acceder a clases ya existentes, como `Scanner` para leer del teclado."
   ]
  },
  {
   "cell_type": "code",
   "execution_count": null,
   "id": "d81f3e22",
   "metadata": {},
   "outputs": [],
   "source": [
    "%%writefile -a HolaMundo.java\n",
    "import java.util.Scanner;\n"
   ]
  },
  {
   "cell_type": "markdown",
   "id": "00688efb",
   "metadata": {},
   "source": [
    "### 1.3 Clase principal\n",
    "Toda aplicación en Java debe tener una clase pública que coincida con el nombre del archivo."
   ]
  },
  {
   "cell_type": "code",
   "execution_count": null,
   "id": "e295e24d",
   "metadata": {},
   "outputs": [],
   "source": [
    "%%writefile -a HolaMundo.java\n",
    "public class HolaMundo {\n"
   ]
  },
  {
   "cell_type": "markdown",
   "id": "c267f660",
   "metadata": {},
   "source": [
    "### 1.4 Método `main`\n",
    "Es el punto de entrada del programa Java."
   ]
  },
  {
   "cell_type": "code",
   "execution_count": null,
   "id": "08131d4f",
   "metadata": {},
   "outputs": [],
   "source": [
    "%%writefile -a HolaMundo.java\n",
    "    public static void main(String[] args) {\n",
    "        System.out.println(\"Hola, Mundo!\");\n",
    "\n",
    "        // Leer nombre del usuario\n",
    "        Scanner scanner = new Scanner(System.in);\n",
    "        System.out.print(\"Introduce tu nombre: \");\n",
    "        String nombre = scanner.nextLine();\n",
    "\n",
    "        // Mostrar saludo\n",
    "        System.out.println(\"Hola, \" + nombre + \", ¡bienvenido a Java!\");\n",
    "    }\n",
    "}"
   ]
  },
  {
   "cell_type": "markdown",
   "id": "5b8796f2",
   "metadata": {},
   "source": [
    "## 2. Compilar y ejecutar un programa Java\n",
    "\n",
    "Supongamos que tienes un archivo llamado `HolaMundo.java`. Para compilarlo y ejecutarlo desde la terminal:\n",
    "\n",
    "### Compilar\n",
    "```\n",
    "javac HolaMundo.java\n",
    "```\n",
    "Esto genera el archivo `HolaMundo.class`.\n",
    "\n",
    "### Ejecutar\n",
    "```\n",
    "java HolaMundo\n",
    "```\n",
    "Y la salida será:\n",
    "```\n",
    "Hola, Mundo!\n",
    "Introduce tu nombre: [nombre]\n",
    "Hola, [nombre], ¡bienvenido a Java!\n",
    "```"
   ]
  },
  {
   "cell_type": "markdown",
   "id": "58378d49",
   "metadata": {},
   "source": [
    "## 3. Detalles clave\n",
    "- El **orden** correcto: package → imports → clase → método `main`.\n",
    "- El nombre del archivo debe coincidir con el de la clase pública.\n",
    "- Usa comentarios (`//` y `/* */`) para mejorar la legibilidad del código.\n",
    "- Sigue las **convenciones** de nomenclatura Java (CamelCase para clases, minúscula para métodos y variables)."
   ]
  },
  {
   "cell_type": "markdown",
   "id": "7b131839",
   "metadata": {},
   "source": [
    "## 4. Conclusión\n",
    "\n",
    "Comprender la estructura básica de un programa Java es esencial para avanzar hacia conceptos más complejos como clases, métodos, objetos, herencia, etc."
   ]
  }
 ],
 "metadata": {},
 "nbformat": 4,
 "nbformat_minor": 5
}
