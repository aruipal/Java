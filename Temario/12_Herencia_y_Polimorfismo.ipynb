{
 "cells": [
  {
   "cell_type": "markdown",
   "id": "de73205e",
   "metadata": {},
   "source": [
    "# Herencia y Polimorfismo en Java\n",
    "\n",
    "Resumen y ejemplos prácticos para clase."
   ]
  },
  {
   "cell_type": "markdown",
   "id": "66e15e9d",
   "metadata": {},
   "source": [
    "## 1. Introducción\n",
    "\n",
    "En Java, **herencia** y **polimorfismo** son conceptos fundamentales de la Programación Orientada a Objetos (POO). Permiten crear programas más organizados, reutilizables y fáciles de mantener.\n",
    "\n",
    "- **Herencia**: una clase puede heredar atributos y métodos de otra.\n",
    "- **Polimorfismo**: un mismo método puede comportarse de manera diferente según el objeto que lo invoque.\n"
   ]
  },
  {
   "cell_type": "markdown",
   "id": "40aa89ac",
   "metadata": {},
   "source": [
    "## 2. Herencia\n",
    "\n",
    "### ¿Qué es?\n",
    "\n",
    "La **herencia** permite que una clase hija (subclase) adquiera atributos y métodos de una clase padre (superclase).\n",
    "\n",
    "### Ventajas:\n",
    "- Reutilización de código.\n",
    "- Mejor organización.\n",
    "- Menor redundancia.\n",
    "\n",
    "### Sintaxis:\n",
    "Se usa la palabra clave `extends`.\n"
   ]
  },
  {
   "cell_type": "code",
   "execution_count": null,
   "id": "a82c76fd",
   "metadata": {},
   "outputs": [],
   "source": [
    "// Superclase\n",
    "public class Vehiculo {\n",
    "    String marca;\n",
    "    int velocidad;\n",
    "\n",
    "    public void acelerar() {\n",
    "        System.out.println(\"El vehículo está acelerando.\");\n",
    "    }\n",
    "}\n",
    "\n",
    "// Subclase\n",
    "public class Coche extends Vehiculo {\n",
    "    int numeroDePuertas;\n",
    "\n",
    "    public void mostrarInfo() {\n",
    "        System.out.println(\"Marca: \" + marca);\n",
    "        System.out.println(\"Velocidad: \" + velocidad);\n",
    "        System.out.println(\"Número de puertas: \" + numeroDePuertas);\n",
    "    }\n",
    "}"
   ]
  },
  {
   "cell_type": "code",
   "execution_count": null,
   "id": "4c214f11",
   "metadata": {},
   "outputs": [],
   "source": [
    "public class Main {\n",
    "    public static void main(String[] args) {\n",
    "        Coche miCoche = new Coche();\n",
    "        miCoche.marca = \"Toyota\";\n",
    "        miCoche.velocidad = 120;\n",
    "        miCoche.numeroDePuertas = 4;\n",
    "\n",
    "        miCoche.mostrarInfo();\n",
    "        miCoche.acelerar(); // Método heredado\n",
    "    }\n",
    "}"
   ]
  },
  {
   "cell_type": "markdown",
   "id": "bcc57fef",
   "metadata": {},
   "source": [
    "## 3. La palabra clave `super`\n",
    "\n",
    "Sirve para acceder a métodos o constructores de la superclase.\n",
    "\n",
    "### Ejemplo:\n"
   ]
  },
  {
   "cell_type": "code",
   "execution_count": null,
   "id": "fa6f3aa5",
   "metadata": {},
   "outputs": [],
   "source": [
    "public class Animal {\n",
    "    String nombre;\n",
    "\n",
    "    public Animal(String nombre) {\n",
    "        this.nombre = nombre;\n",
    "    }\n",
    "\n",
    "    public void hacerSonido() {\n",
    "        System.out.println(nombre + \" hace un sonido.\");\n",
    "    }\n",
    "}\n",
    "\n",
    "public class Perro extends Animal {\n",
    "    public Perro(String nombre) {\n",
    "        super(nombre); // Llama al constructor de la superclase\n",
    "    }\n",
    "\n",
    "    public void ladrar() {\n",
    "        System.out.println(nombre + \" está ladrando.\");\n",
    "    }\n",
    "}"
   ]
  },
  {
   "cell_type": "markdown",
   "id": "4556d56e",
   "metadata": {},
   "source": [
    "## 4. Polimorfismo\n",
    "\n",
    "### ¿Qué es?\n",
    "\n",
    "Es la capacidad de un método de comportarse de forma diferente dependiendo del objeto que lo invoque.\n",
    "\n",
    "### Tipos:\n",
    "- **Polimorfismo en tiempo de ejecución** (sobreescritura).\n",
    "- **Polimorfismo en tiempo de compilación** (sobrecarga).\n"
   ]
  },
  {
   "cell_type": "markdown",
   "id": "39116e3d",
   "metadata": {},
   "source": [
    "### 4.1 Sobreescritura de métodos (`@Override`)"
   ]
  },
  {
   "cell_type": "code",
   "execution_count": null,
   "id": "3c9ce777",
   "metadata": {},
   "outputs": [],
   "source": [
    "public class Animal {\n",
    "    public void hacerSonido() {\n",
    "        System.out.println(\"El animal hace un sonido.\");\n",
    "    }\n",
    "}\n",
    "\n",
    "public class Perro extends Animal {\n",
    "    @Override\n",
    "    public void hacerSonido() {\n",
    "        System.out.println(\"El perro ladra.\");\n",
    "    }\n",
    "}\n",
    "\n",
    "public class Gato extends Animal {\n",
    "    \n",
    "}\n",
    "\n",
    "public class Main {\n",
    "    public static void main(String[] args) {\n",
    "        Perro miPerro = new Perro();\n",
    "        miPerro.hacerSonido(); // Se ejecuta el método sobreescrito\n",
    "\n",
    "        Gato gato = new Gato();\n",
    "        gato.hacerSonido();\n",
    "    }\n",
    "}"
   ]
  },
  {
   "cell_type": "markdown",
   "id": "96c466c3",
   "metadata": {},
   "source": [
    "### 4.2 Sobrecarga de métodos"
   ]
  },
  {
   "cell_type": "code",
   "execution_count": null,
   "id": "d68f9790",
   "metadata": {},
   "outputs": [],
   "source": [
    "public class Calculadora {\n",
    "    public int sumar(int a, int b) {\n",
    "        return a + b;\n",
    "    }\n",
    "\n",
    "    public int sumar(int a, int b, int c) {\n",
    "        return a + b + c;\n",
    "    }\n",
    "}\n",
    "\n",
    "public class Main {\n",
    "    public static void main(String[] args) {\n",
    "        Calculadora calc = new Calculadora();\n",
    "        System.out.println(calc.sumar(2, 3));     // 5\n",
    "        System.out.println(calc.sumar(2, 3, 4));  // 9\n",
    "    }\n",
    "}"
   ]
  },
  {
   "cell_type": "markdown",
   "id": "25c24bc2",
   "metadata": {},
   "source": [
    "## 5. Conclusión\n",
    "\n",
    "- La **herencia** permite reutilizar código y organizar mejor las clases.\n",
    "- El **polimorfismo** proporciona flexibilidad al permitir múltiples formas de comportamiento.\n",
    "- Estos conceptos son esenciales para dominar la programación orientada a objetos en Java.\n"
   ]
  }
 ],
 "metadata": {
  "kernelspec": {
   "display_name": "Java",
   "language": "java",
   "name": "java"
  },
  "language_info": {
   "name": ""
  }
 },
 "nbformat": 4,
 "nbformat_minor": 5
}
