{
 "cells": [
  {
   "cell_type": "markdown",
   "id": "d3608307",
   "metadata": {},
   "source": [
    "# Clases Anidadas y Clases Anónimas en Java\n",
    "\n",
    "Resumen y ejemplos prácticos para clase."
   ]
  },
  {
   "cell_type": "markdown",
   "id": "fb52e6df",
   "metadata": {},
   "source": [
    "## 1. Introducción\n",
    "\n",
    "En Java, podemos definir clases dentro de otras clases o métodos. Esto permite una mejor organización del código y facilita la creación de comportamientos específicos y localizados.\n",
    "\n",
    "En este tema se tratan dos conceptos clave:\n",
    "- **Clases anidadas** (Nested Classes)\n",
    "- **Clases anónimas** (Anonymous Classes)\n",
    "\n",
    "Ambas son útiles cuando una clase depende fuertemente del contexto en el que se usa.\n"
   ]
  },
  {
   "cell_type": "markdown",
   "id": "2bb11968",
   "metadata": {},
   "source": [
    "## 2. Clases Anidadas (Nested Classes)\n",
    "\n",
    "Una clase anidada es una clase definida dentro de otra. Existen varios tipos, pero las más comunes para principiantes son:\n",
    "\n",
    "- **Clases internas (inner classes)**: no son estáticas y pueden acceder a todos los atributos (incluso privados) de la clase externa.\n",
    "- **Clases anónimas**: se definen e instancian en una única expresión.\n",
    "\n",
    "### Ventajas de las clases internas:\n",
    "- Acceso directo a miembros de la clase externa.\n",
    "- Encapsulan mejor el comportamiento relacionado.\n",
    "- Evitan la proliferación de clases sueltas.\n"
   ]
  },
  {
   "cell_type": "code",
   "execution_count": null,
   "id": "62d10c05",
   "metadata": {},
   "outputs": [],
   "source": [
    "// Ejemplo de clase interna\n",
    "public class Coche {\n",
    "    private String marca;\n",
    "\n",
    "    public Coche(String marca) {\n",
    "        this.marca = marca;\n",
    "    }\n",
    "\n",
    "    // Clase interna\n",
    "    public class Motor {\n",
    "        private int caballos;\n",
    "\n",
    "        public Motor(int caballos) {\n",
    "            this.caballos = caballos;\n",
    "        }\n",
    "\n",
    "        public void mostrarDetalles() {\n",
    "            System.out.println(\"Marca del coche: \" + marca);\n",
    "            System.out.println(\"Potencia del motor: \" + caballos + \" CV\");\n",
    "        }\n",
    "    }\n",
    "}"
   ]
  },
  {
   "cell_type": "code",
   "execution_count": null,
   "id": "ed60afa2",
   "metadata": {},
   "outputs": [],
   "source": [
    "// Instanciar clase interna\n",
    "public class Main {\n",
    "    public static void main(String[] args) {\n",
    "        Coche coche = new Coche(\"Toyota\");\n",
    "        Coche.Motor motor = coche.new Motor(120);\n",
    "        motor.mostrarDetalles();\n",
    "    }\n",
    "}"
   ]
  },
  {
   "cell_type": "markdown",
   "id": "23209688",
   "metadata": {},
   "source": [
    "## 3. Clases Anónimas\n",
    "\n",
    "Una **clase anónima** no tiene nombre y se declara e instancia a la vez. Son ideales para:\n",
    "\n",
    "- Implementar una interfaz rápidamente.\n",
    "- Modificar el comportamiento de una clase en un caso puntual.\n",
    "- Programar eventos, callbacks o acciones específicas.\n",
    "\n",
    "Se utilizan mucho en interfaces gráficas y programación concurrente.\n"
   ]
  },
  {
   "cell_type": "code",
   "execution_count": null,
   "id": "0d8d43e5",
   "metadata": {},
   "outputs": [],
   "source": [
    "// Ejemplo: implementar una interfaz\n",
    "public interface Mensaje {\n",
    "    void mostrar();\n",
    "}\n",
    "\n",
    "public class Main {\n",
    "    public static void main(String[] args) {\n",
    "        Mensaje saludo = new Mensaje() {\n",
    "            @Override\n",
    "            public void mostrar() {\n",
    "                System.out.println(\"¡Hola desde una clase anónima!\");\n",
    "            }\n",
    "        };\n",
    "\n",
    "        saludo.mostrar();\n",
    "    }\n",
    "}"
   ]
  },
  {
   "cell_type": "code",
   "execution_count": null,
   "id": "d02251e0",
   "metadata": {},
   "outputs": [],
   "source": [
    "// Ejemplo: sobrescribir método de clase\n",
    "public class Animal {\n",
    "    public void hacerSonido() {\n",
    "        System.out.println(\"El animal hace un sonido genérico.\");\n",
    "    }\n",
    "}\n",
    "\n",
    "public class Main {\n",
    "    public static void main(String[] args) {\n",
    "        Animal gato = new Animal() {\n",
    "            @Override\n",
    "            public void hacerSonido() {\n",
    "                System.out.println(\"El gato dice: Miau\");\n",
    "            }\n",
    "        };\n",
    "\n",
    "        gato.hacerSonido();\n",
    "    }\n",
    "}"
   ]
  },
  {
   "cell_type": "markdown",
   "id": "891ade10",
   "metadata": {},
   "source": [
    "## 4. Diferencias clave\n",
    "\n",
    "| Característica              | Clase interna | Clase anónima |\n",
    "|----------------------------|---------------|----------------|\n",
    "| ¿Tiene nombre?             | ✅ Sí         | ❌ No          |\n",
    "| ¿Se puede reutilizar?      | ✅ Sí         | ❌ No          |\n",
    "| ¿Accede a clase externa?   | ✅ Sí         | ✅ Sí          |\n",
    "| ¿Puede tener varios métodos? | ✅ Sí       | ⚠ Limitado    |\n",
    "| ¿Para qué se usa?          | Organización  | Tareas puntuales |\n"
   ]
  },
  {
   "cell_type": "markdown",
   "id": "b996120c",
   "metadata": {},
   "source": [
    "## 5. Recomendaciones y buenas prácticas\n",
    "\n",
    "- Usa **clases internas** cuando exista una fuerte relación lógica entre clases.\n",
    "- Usa **clases anónimas** para tareas breves que no requieren una clase completa.\n",
    "- No abuses de clases anónimas largas, mejor crear una clase con nombre.\n",
    "- Comenta el código si la clase anónima realiza algo complejo.\n"
   ]
  }
 ],
 "metadata": {},
 "nbformat": 4,
 "nbformat_minor": 5
}
