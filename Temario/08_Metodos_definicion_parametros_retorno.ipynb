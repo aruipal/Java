{
  "cells": [
    {
      "cell_type": "markdown",
      "metadata": {},
      "source": [
        "# Métodos en Java: Definición, Parámetros y Retorno\n",
        "Este notebook explica qué son los métodos en Java, cómo se definen, cómo reciben parámetros y cómo devuelven resultados."
      ]
    },
    {
      "cell_type": "markdown",
      "metadata": {},
      "source": [
        "## ¿Qué es un método?\n",
        "Un método es un bloque de código que realiza una tarea específica y puede ser llamado múltiples veces. Facilita la organización, reutilización y mantenimiento del código."
      ]
    },
    {
      "cell_type": "markdown",
      "metadata": {},
      "source": [
        "## Método sin parámetros ni retorno"
      ]
    },
    {
      "cell_type": "code",
      "metadata": {},
      "source": [
        "public class Ejemplo {\n",
        "    public void imprimirSaludo() {\n",
        "        System.out.println(\"¡Hola, bienvenido a Java!\");\n",
        "    }\n",
        "}\n",
        "\n",
        "Ejemplo obj = new Ejemplo();\n",
        "obj.imprimirSaludo();"
      ],
      "execution_count": null,
      "outputs": []
    },
    {
      "cell_type": "markdown",
      "metadata": {},
      "source": [
        "## Método con parámetro"
      ]
    },
    {
      "cell_type": "code",
      "metadata": {},
      "source": [
        "public class Ejemplo {\n",
        "    public void saludarUsuario(String nombre) {\n",
        "        System.out.println(\"Hola, \" + nombre + \"!\");\n",
        "    }\n",
        "}\n",
        "\n",
        "Ejemplo obj = new Ejemplo();\n",
        "obj.saludarUsuario(\"María\");"
      ],
      "execution_count": null,
      "outputs": []
    },
    {
      "cell_type": "markdown",
      "metadata": {},
      "source": [
        "## Método con múltiples parámetros"
      ]
    },
    {
      "cell_type": "code",
      "metadata": {},
      "source": [
        "public class Ejemplo {\n",
        "    public void mostrarDatos(String nombre, int edad) {\n",
        "        System.out.println(\"Nombre: \" + nombre + \", Edad: \" + edad);\n",
        "    }\n",
        "}\n",
        "\n",
        "Ejemplo obj = new Ejemplo();\n",
        "obj.mostrarDatos(\"Juan\", 25);"
      ],
      "execution_count": null,
      "outputs": []
    },
    {
      "cell_type": "markdown",
      "metadata": {},
      "source": [
        "## Método con retorno (entero)"
      ]
    },
    {
      "cell_type": "code",
      "metadata": {},
      "source": [
        "public class Calculadora {\n",
        "    public int sumar(int a, int b) {\n",
        "        return a + b;\n",
        "    }\n",
        "}\n",
        "\n",
        "Calculadora calc = new Calculadora();\n",
        "int resultado = calc.sumar(5, 7);\n",
        "System.out.println(\"La suma es: \" + resultado);"
      ],
      "execution_count": null,
      "outputs": []
    },
    {
      "cell_type": "markdown",
      "metadata": {},
      "source": [
        "## Método con retorno (String)"
      ]
    },
    {
      "cell_type": "code",
      "metadata": {},
      "source": [
        "public class Mensajero {\n",
        "    public String crearMensaje(String nombre) {\n",
        "        return \"Hola, \" + nombre + \", ¿cómo estás?\";\n",
        "    }\n",
        "}\n",
        "\n",
        "Mensajero m = new Mensajero();\n",
        "String mensaje = m.crearMensaje(\"Luis\");\n",
        "System.out.println(mensaje);"
      ],
      "execution_count": null,
      "outputs": []
    },
    {
      "cell_type": "markdown",
      "metadata": {},
      "source": [
        "# 🧠 Ejercicios Propuestos\n",
        "### 1. Define un método `mostrarTablaDel5()` que imprima la tabla de multiplicar del 5.\n",
        "```java\n// Tu código aquí\n```\n",
        "### 2. Crea un método que reciba dos números y devuelva el mayor.\n",
        "```java\n// Tu código aquí\n```\n",
        "### 3. Escribe un método `esPar(int n)` que devuelva `true` si el número es par, `false` en caso contrario.\n",
        "```java\n// Tu código aquí\n```\n",
        "### 4. Crea un método que reciba el nombre y la edad de una persona y devuelva un mensaje personalizado.\n",
        "```java\n// Tu código aquí\n```\n",
        "### 5. Escribe un método `calcularAreaRectangulo(double base, double altura)` que devuelva el área.\n",
        "```java\n// Tu código aquí\n```"
      ]
    }
  ],
  "metadata": {
    "kernelspec": {
      "name": "java",
      "language": "java",
      "display_name": "Java"
    },
    "language_info": {
      "name": "java"
    }
  },
  "nbformat": 4,
  "nbformat_minor": 2
}