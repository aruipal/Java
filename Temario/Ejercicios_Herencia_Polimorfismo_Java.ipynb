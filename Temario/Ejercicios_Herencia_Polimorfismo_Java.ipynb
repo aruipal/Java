{
 "cells": [
  {
   "cell_type": "markdown",
   "id": "103bc09b",
   "metadata": {},
   "source": [
    "# Ejercicios de Herencia y Polimorfismo en Java\n",
    "A continuación se presentan 5 ejercicios para practicar conceptos de herencia y polimorfismo."
   ]
  },
  {
   "cell_type": "markdown",
   "id": "6a169d4d",
   "metadata": {},
   "source": [
    "## ✅ Ejercicio 1: Herencia básica\n",
    "Crea una clase base llamada `Animal` con un método `hacerSonido()`. Luego crea dos clases derivadas: `Perro` y `Gato`, que sobrescriban ese método con los sonidos correspondientes. Crea instancias de cada clase y llama al método para demostrar el polimorfismo."
   ]
  },
  {
   "cell_type": "markdown",
   "id": "d8cef256",
   "metadata": {},
   "source": [
    "## ✅ Ejercicio 2: Uso de `super()`\n",
    "Crea una clase `Empleado` con los atributos `nombre` y `salario`, y un método `mostrarInfo()`. Luego crea una clase `Gerente` que herede de `Empleado` y añada el atributo `departamento`. Utiliza `super()` para llamar al constructor de la clase base."
   ]
  },
  {
   "cell_type": "markdown",
   "id": "5ea74572",
   "metadata": {},
   "source": [
    "## ✅ Ejercicio 3: Polimorfismo con función\n",
    "Crea una interfaz `Animal` con un método `hacerSonido()`. Luego crea las clases `Pajaro`, `Caballo` y `Vaca`, cada una con su implementación de `hacerSonido()`. Crea una función que reciba un `Animal` y llame al método correspondiente."
   ]
  },
  {
   "cell_type": "markdown",
   "id": "8e6fb6be",
   "metadata": {},
   "source": [
    "## ✅ Ejercicio 4: Clases abstractas\n",
    "Crea una clase abstracta `FiguraGeometrica` con un método abstracto `area()`. Implementa las clases `Cuadrado` y `Circulo`, cada una con su propia fórmula para calcular el área."
   ]
  },
  {
   "cell_type": "markdown",
   "id": "8f0b1eb2",
   "metadata": {},
   "source": [
    "## ✅ Ejercicio 5: Polimorfismo con lista de objetos\n",
    "Crea una clase `Vehiculo` con un método `describir()`. Luego crea las clases `Coche` y `Moto` que sobrescriban ese método. Crea una lista con objetos de ambas clases y recórrela usando `describir()`."
   ]
  }
 ],
 "metadata": {
  "kernelspec": {
   "display_name": "Java",
   "language": "java",
   "name": "java"
  },
  "language_info": {
   "name": ""
  }
 },
 "nbformat": 4,
 "nbformat_minor": 5
}
