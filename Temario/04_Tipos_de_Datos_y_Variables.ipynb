{
  "cells": [
    {
      "cell_type": "markdown",
      "metadata": {},
      "source": [
        "# Tipos de Datos y Variables en Java\n",
        "Este notebook introduce los conceptos fundamentales sobre variables y tipos de datos en Java, enfocado para alumnos principiantes."
      ]
    },
    {
      "cell_type": "markdown",
      "metadata": {},
      "source": [
        "## ¿Qué es una variable?\n",
        "Una variable es un espacio en memoria con un nombre único que se usa para almacenar información que puede cambiar durante la ejecución del programa.\n",
        "**Ejemplo:**"
      ]
    },
    {
      "cell_type": "code",
      "execution_count": null,
      "metadata": {},
      "outputs": [],
      "source": [
        "int numero = 10;\n",
        "System.out.println(\"El valor de la variable numero es: \" + numero);"
      ]
    },
    {
      "cell_type": "markdown",
      "metadata": {},
      "source": [
        "## Tipos de Datos Primitivos\n",
        "### Enteros\n",
        "- `byte`: -128 a 127\n",
        "- `short`: -32,768 a 32,767\n",
        "- `int`: -2,147,483,648 a 2,147,483,647\n",
        "- `long`: -9,223,372,036,854,775,808 a 9,223,372,036,854,775,807"
      ]
    },
    {
      "cell_type": "code",
      "execution_count": null,
      "metadata": {},
      "outputs": [],
      "source": [
        "byte b = 100;\n",
        "short s = 10000;\n",
        "int i = 100000;\n",
        "long l = 10000000000L;\n",
        "System.out.println(b + \", \" + s + \", \" + i + \", \" + l);"
      ]
    },
    {
      "cell_type": "markdown",
      "metadata": {},
      "source": [
        "### Decimales (punto flotante)\n",
        "- `float`: precisión simple\n",
        "- `double`: precisión doble"
      ]
    },
    {
      "cell_type": "code",
      "execution_count": null,
      "metadata": {},
      "outputs": [],
      "source": [
        "float f = 5.5;\n",
        "double d = 10.123456;\n",
        "System.out.println(\"float: \" + f);\n",
        "System.out.println(\"double: \" + d);"
      ]
    },
    {
      "cell_type": "markdown",
      "metadata": {},
      "source": [
        "### Caracteres y booleanos"
      ]
    },
    {
      "cell_type": "code",
      "execution_count": null,
      "metadata": {},
      "outputs": [],
      "source": [
        "char letra = 'A';\n",
        "boolean esJavaGenial = true;\n",
        "System.out.println(\"Letra: \" + letra);\n",
        "System.out.println(\"¿Es Java genial?: \" + esJavaGenial);"
      ]
    },
    {
      "cell_type": "markdown",
      "metadata": {},
      "source": [
        "## Tipos por Referencia\n",
        "- **String**: texto\n",
        "- **Arreglos**: colección de elementos\n",
        "- **Objetos**: instancias de clases definidas por el usuario"
      ]
    },
    {
      "cell_type": "code",
      "execution_count": null,
      "metadata": {},
      "outputs": [],
      "source": [
        "String mensaje = \"Hola, mundo\";\n",
        "int[] numeros = {1, 2, 3, 4, 5};\n",
        "System.out.println(mensaje);\n",
        "System.out.println(\"Primer número: \" + numeros[0]);"
      ]
    },
    {
      "cell_type": "markdown",
      "metadata": {},
      "source": [
        "## Conversión de Tipos\n",
        "**Implícita:**\n",
        "```java\n",
        "int x = 100;\n",
        "long y = x; // conversión automática\n",
        "```\n",
        "**Explícita:**\n",
        "```java\n",
        "double valor = 9.99;\n",
        "int entero = (int) valor; // pierde la parte decimal\n",
        "```"
      ]
    },
    {
      "cell_type": "code",
      "execution_count": null,
      "metadata": {},
      "outputs": [],
      "source": [
        "double valor = 9.99;\n",
        "int entero = (int) valor;\n",
        "System.out.println(\"Valor original: \" + valor);\n",
        "System.out.println(\"Valor convertido: \" + entero);"
      ]
    },
    {
      "cell_type": "markdown",
      "metadata": {},
      "source": [
        "# 🧠 Ejercicios Propuestos\n",
        "### 1. Declara una variable de cada tipo primitivo y muestra su valor.\n",
        "```java\n",
        "// Tu código aquí\n",
        "```\n",
        "### 2. Crea un programa que calcule el área de un triángulo dados su base y altura.\n",
        "```java\n",
        "// Tu código aquí\n",
        "```\n",
        "### 3. Declara dos variables `double`, suma sus valores y muestra el resultado con dos decimales.\n",
        "```java\n",
        "// Tu código aquí\n",
        "```\n",
        "### 4. Crea una variable `String` con tu nombre y muestra el mensaje \"Hola, [nombre]!\".\n",
        "```java\n",
        "// Tu código aquí\n",
        "```\n",
        "### 5. Declara un `boolean` y una condición `if` que muestre un mensaje solo si es `true`.\n",
        "```java\n",
        "// Tu código aquí\n",
        "```"
      ]
    }
  ],
  "metadata": {
    "kernelspec": {
      "display_name": "Java",
      "language": "java",
      "name": "java"
    },
    "language_info": {
      "name": "java"
    }
  },
  "nbformat": 4,
  "nbformat_minor": 2
}