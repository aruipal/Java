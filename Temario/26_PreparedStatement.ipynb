{
 "cells": [
  {
   "cell_type": "markdown",
   "id": "b700470a",
   "metadata": {},
   "source": [
    "# 🧩 JDBC: Consultas Preparadas con PreparedStatement"
   ]
  },
  {
   "cell_type": "markdown",
   "id": "bf72a03d",
   "metadata": {},
   "source": [
    "\n",
    "## 1. Introducción\n",
    "\n",
    "`PreparedStatement` es una herramienta clave en JDBC para ejecutar consultas parametrizadas de forma segura y eficiente.\n",
    "\n",
    "A diferencia de `Statement`, evita concatenar cadenas y mejora la protección frente a ataques como la inyección SQL.\n"
   ]
  },
  {
   "cell_type": "markdown",
   "id": "d23682c9",
   "metadata": {},
   "source": [
    "\n",
    "## 2. ¿Qué es PreparedStatement?\n",
    "\n",
    "Es una interfaz que permite usar parámetros (`?`) en consultas SQL, que luego se reemplazan con valores concretos:\n",
    "\n",
    "```java\n",
    "String sql = \"SELECT * FROM alumnos WHERE curso = ?\";\n",
    "PreparedStatement ps = conexion.prepareStatement(sql);\n",
    "ps.setString(1, \"DAM1\");\n",
    "ResultSet rs = ps.executeQuery();\n",
    "```\n",
    "\n",
    "Esta separación entre lógica y datos hace el código más seguro y limpio.\n"
   ]
  },
  {
   "cell_type": "markdown",
   "id": "c595c68b",
   "metadata": {},
   "source": [
    "\n",
    "## 3. Ventajas de PreparedStatement\n",
    "\n",
    "✅ **Seguridad**: evita inyecciones SQL.  \n",
    "✅ **Rendimiento**: se compila una vez y puede reutilizarse.  \n",
    "✅ **Claridad**: el código es más legible.  \n",
    "✅ **Flexibilidad**: misma consulta, diferentes valores.  \n",
    "✅ **Mantenimiento**: fácil de modificar sin reescribir todo.\n"
   ]
  },
  {
   "cell_type": "markdown",
   "id": "0bd7db3a",
   "metadata": {},
   "source": [
    "\n",
    "## 4. Sintaxis Básica\n",
    "\n",
    "```java\n",
    "String sql = \"SELECT * FROM alumnos WHERE edad > ?\";\n",
    "PreparedStatement ps = conexion.prepareStatement(sql);\n",
    "ps.setInt(1, 20);\n",
    "\n",
    "ResultSet rs = ps.executeQuery();\n",
    "\n",
    "while (rs.next()) {\n",
    "    System.out.println(\"Nombre: \" + rs.getString(\"nombre\") +\n",
    "                       \" | Edad: \" + rs.getInt(\"edad\"));\n",
    "}\n",
    "```\n",
    "\n",
    "📌 Puedes reutilizar `ps` con nuevos valores y volver a ejecutar.\n"
   ]
  },
  {
   "cell_type": "markdown",
   "id": "0b406504",
   "metadata": {},
   "source": [
    "\n",
    "## 5. Métodos Útiles de PreparedStatement\n",
    "\n",
    "- `setString(int pos, String val)`\n",
    "- `setInt(int pos, int val)`\n",
    "- `setDouble(int pos, double val)`\n",
    "- `setBoolean(int pos, boolean val)`\n",
    "- `setDate(int pos, java.sql.Date val)`\n",
    "\n",
    "Para ejecutar:\n",
    "- `executeQuery()` → consultas `SELECT`\n",
    "- `executeUpdate()` → `INSERT`, `UPDATE`, `DELETE`\n"
   ]
  },
  {
   "cell_type": "markdown",
   "id": "826100d5",
   "metadata": {},
   "source": [
    "\n",
    "## 6. Uso Repetido con Distintos Valores\n",
    "\n",
    "```java\n",
    "String sql = \"INSERT INTO alumnos (nombre, edad, curso) VALUES (?, ?, ?)\";\n",
    "PreparedStatement ps = conexion.prepareStatement(sql);\n",
    "\n",
    "ps.setString(1, \"Lucía\");\n",
    "ps.setInt(2, 19);\n",
    "ps.setString(3, \"DAM1\");\n",
    "ps.executeUpdate();\n",
    "\n",
    "ps.setString(1, \"Andrés\");\n",
    "ps.setInt(2, 21);\n",
    "ps.setString(3, \"ASIR1\");\n",
    "ps.executeUpdate();\n",
    "\n",
    "ps.setString(1, \"Carla\");\n",
    "ps.setInt(2, 22);\n",
    "ps.setString(3, \"DAM2\");\n",
    "ps.executeUpdate();\n",
    "```\n",
    "\n",
    "📈 Ideal para aplicaciones que insertan muchos datos dinámicos.\n"
   ]
  },
  {
   "cell_type": "markdown",
   "id": "70d81847",
   "metadata": {},
   "source": [
    "\n",
    "## 7. Comparativa Statement vs PreparedStatement\n",
    "\n",
    "| Característica              | Statement         | PreparedStatement |\n",
    "|----------------------------|-------------------|-------------------|\n",
    "| Seguridad                  | ❌ No segura       | ✅ Muy segura      |\n",
    "| Reutilización              | ❌ No              | ✅ Sí              |\n",
    "| Parámetros dinámicos       | ❌ Concatenación   | ✅ Placeholder (?) |\n",
    "| Claridad del código        | ❌ Menor           | ✅ Mayor           |\n",
    "| Rendimiento en repetidas   | ❌ Menor           | ✅ Mayor           |\n",
    "| Facilidad de mantenimiento | ❌ Baja            | ✅ Alta            |\n",
    "| Escalabilidad              | ❌ Limitada        | ✅ Alta            |\n"
   ]
  }
 ],
 "metadata": {},
 "nbformat": 4,
 "nbformat_minor": 5
}
