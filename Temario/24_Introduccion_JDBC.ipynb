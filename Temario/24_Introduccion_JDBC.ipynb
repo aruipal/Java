{
 "cells": [
  {
   "cell_type": "markdown",
   "id": "cb8604b0",
   "metadata": {},
   "source": [
    "# 🔌 Introducción a JDBC (Java Database Connectivity)"
   ]
  },
  {
   "cell_type": "markdown",
   "id": "f423fdba",
   "metadata": {},
   "source": [
    "\n",
    "## 1. ¿Qué es JDBC?\n",
    "\n",
    "JDBC es una API que permite a las aplicaciones Java conectarse a bases de datos. Proporciona clases e interfaces que nos permiten ejecutar comandos SQL directamente desde Java.\n",
    "\n",
    "**¿Qué podemos hacer con JDBC?**\n",
    "- Conectar con bases de datos locales o remotas.\n",
    "- Ejecutar sentencias `SELECT`, `INSERT`, `UPDATE` y `DELETE`.\n",
    "- Procesar resultados de consultas (`ResultSet`).\n",
    "- Manejar errores relacionados con bases de datos.\n",
    "\n",
    "JDBC es compatible con muchos sistemas gestores de bases de datos mediante drivers específicos.\n"
   ]
  },
  {
   "cell_type": "markdown",
   "id": "9b558cbd",
   "metadata": {},
   "source": [
    "\n",
    "## 2. Componentes Principales de JDBC\n",
    "\n",
    "- **Driver JDBC**: permite la comunicación entre Java y el SGBD.\n",
    "- **Connection**: representa la conexión activa con la base de datos.\n",
    "- **Statement**: ejecuta SQL sin parámetros.\n",
    "- **PreparedStatement**: permite ejecutar SQL con parámetros, más seguro y eficiente.\n",
    "- **ResultSet**: almacena los resultados de una consulta.\n",
    "\n",
    "Estos componentes forman la base de cualquier programa que utilice JDBC.\n"
   ]
  },
  {
   "cell_type": "markdown",
   "id": "11e12c2c",
   "metadata": {},
   "source": [
    "\n",
    "## 3. Estructura Básica de un Programa JDBC\n",
    "\n",
    "```java\n",
    "import java.sql.*;\n",
    "\n",
    "public class ConexionEjemplo {\n",
    "    public static void main(String[] args) {\n",
    "        String url = \"jdbc:mysql://192.168.7.41:3306/escuela\";\n",
    "        String usuario = \"SuPeRuSeR\";\n",
    "        String contraseña = \"SuPeR2024Us3R\";\n",
    "\n",
    "        try {\n",
    "            Class.forName(\"com.mysql.cj.jdbc.Driver\");\n",
    "\n",
    "            Connection conexion = DriverManager.getConnection(url, usuario, contraseña);\n",
    "            System.out.println(\"Conexión exitosa.\");\n",
    "\n",
    "            Statement stmt = conexion.createStatement();\n",
    "            ResultSet rs = stmt.executeQuery(\"SELECT * FROM alumnos\");\n",
    "\n",
    "            while (rs.next()) {\n",
    "                int id = rs.getInt(\"id\");\n",
    "                String nombre = rs.getString(\"nombre\");\n",
    "                int edad = rs.getInt(\"edad\");\n",
    "                String curso = rs.getString(\"curso\");\n",
    "\n",
    "                System.out.println(id + \" - \" + nombre + \" - \" + edad + \" - \" + curso);\n",
    "            }\n",
    "\n",
    "            rs.close();\n",
    "            stmt.close();\n",
    "            conexion.close();\n",
    "\n",
    "        } catch (ClassNotFoundException e) {\n",
    "            System.out.println(\"No se encontró el driver JDBC.\");\n",
    "            e.printStackTrace();\n",
    "        } catch (SQLException e) {\n",
    "            System.out.println(\"Error al conectar o ejecutar la consulta.\");\n",
    "            e.printStackTrace();\n",
    "        }\n",
    "    }\n",
    "}\n",
    "```\n"
   ]
  },
  {
   "cell_type": "markdown",
   "id": "08143cc1",
   "metadata": {},
   "source": [
    "\n",
    "## 4. Buenas Prácticas con JDBC\n",
    "\n",
    "- ✅ Cierra siempre `ResultSet`, `Statement` y `Connection`.\n",
    "- ✅ Usa `PreparedStatement` para mayor seguridad y eficiencia.\n",
    "- ✅ Captura y maneja excepciones adecuadamente.\n",
    "- ✅ Centraliza la conexión en una clase (por ejemplo, `ConexionBD`).\n",
    "- ❌ No guardes credenciales directamente en el código fuente.\n",
    "\n",
    "Esto mejora la mantenibilidad, seguridad y claridad del código.\n"
   ]
  },
  {
   "cell_type": "markdown",
   "id": "382e4cdc",
   "metadata": {},
   "source": [
    "\n",
    "## 5. Verificación de la Conexión\n",
    "\n",
    "Antes de comenzar a desarrollar:\n",
    "\n",
    "1. Verifica que el servidor MySQL esté corriendo (`docker ps`).\n",
    "2. Confirma usuario y contraseña.\n",
    "3. Asegúrate de que la base de datos `escuela` y la tabla `alumnos` existen.\n",
    "4. Asegúrate de haber añadido correctamente el conector `.jar` al proyecto.\n",
    "5. La URL debe ser del tipo: `jdbc:mysql://192.168.7.41:3306/escuela`.\n",
    "\n",
    "Si todo está en orden, ¡la conexión debería funcionar!\n"
   ]
  }
 ],
 "metadata": {},
 "nbformat": 4,
 "nbformat_minor": 5
}
