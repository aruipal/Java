{
 "cells": [
  {
   "cell_type": "markdown",
   "id": "0a424725",
   "metadata": {},
   "source": [
    "# Lectura y Escritura de Archivos con FileReader y FileWriter en Java\n",
    "\n",
    "Resumen y ejemplos prácticos para clase."
   ]
  },
  {
   "cell_type": "markdown",
   "id": "ffa285c4",
   "metadata": {},
   "source": [
    "## 1. Introducción\n",
    "\n",
    "En Java, `FileReader` y `FileWriter` son clases que permiten trabajar con **archivos de texto**, leyendo y escribiendo datos **carácter a carácter**.\n",
    "\n",
    "Son más adecuados que `InputStream` y `OutputStream` cuando el archivo contiene texto legible por humanos, como configuraciones, mensajes, informes, etc.\n"
   ]
  },
  {
   "cell_type": "markdown",
   "id": "13a752c2",
   "metadata": {},
   "source": [
    "## 2. ¿Qué son FileReader y FileWriter?\n",
    "\n",
    "| Clase      | ¿Para qué sirve?                                  |\n",
    "|------------|---------------------------------------------------|\n",
    "| FileReader | Leer archivos de texto carácter a carácter        |\n",
    "| FileWriter | Escribir archivos de texto carácter a carácter    |\n",
    "\n",
    "Ambas convierten automáticamente los bytes en caracteres usando la codificación del sistema (por ejemplo, UTF-8).\n"
   ]
  },
  {
   "cell_type": "markdown",
   "id": "a60028f0",
   "metadata": {},
   "source": [
    "## 3. Lectura de Archivos con FileReader\n",
    "\n",
    "### Ejemplo: lectura carácter a carácter\n"
   ]
  },
  {
   "cell_type": "code",
   "execution_count": null,
   "id": "ff6ec08e",
   "metadata": {},
   "outputs": [],
   "source": [
    "import java.io.FileReader;\n",
    "import java.io.IOException;\n",
    "\n",
    "public class LectorArchivo {\n",
    "    public static void main(String[] args) {\n",
    "        try {\n",
    "            FileReader lector = new FileReader(\"entrada.txt\");\n",
    "            int caracter;\n",
    "\n",
    "            while ((caracter = lector.read()) != -1) {\n",
    "                System.out.print((char) caracter);\n",
    "            }\n",
    "\n",
    "            lector.close();\n",
    "        } catch (IOException e) {\n",
    "            System.out.println(\"Error al leer el archivo: \" + e.getMessage());\n",
    "        }\n",
    "    }\n",
    "}"
   ]
  },
  {
   "cell_type": "markdown",
   "id": "def24643",
   "metadata": {},
   "source": [
    "### Alternativa: lectura por bloques de caracteres\n",
    "\n",
    "```java\n",
    "char[] buffer = new char[100];\n",
    "int leidos = lector.read(buffer);\n",
    "```\n",
    "\n",
    "Esto permite una lectura más eficiente al procesar bloques en lugar de caracteres individuales.\n"
   ]
  },
  {
   "cell_type": "markdown",
   "id": "40640ff9",
   "metadata": {},
   "source": [
    "## 4. Escritura de Archivos con FileWriter\n",
    "\n",
    "### Ejemplo: escribir en un archivo de texto\n"
   ]
  },
  {
   "cell_type": "code",
   "execution_count": null,
   "id": "ed207905",
   "metadata": {},
   "outputs": [],
   "source": [
    "import java.io.FileWriter;\n",
    "import java.io.IOException;\n",
    "\n",
    "public class EscritorArchivo {\n",
    "    public static void main(String[] args) {\n",
    "        try {\n",
    "            FileWriter escritor = new FileWriter(\"salida.txt\");\n",
    "\n",
    "            escritor.write(\"Este es un archivo de texto generado con Java.\n",
    "\");\n",
    "            escritor.write(\"Aprender a manejar archivos es muy útil.\n",
    "\");\n",
    "\n",
    "            escritor.close();\n",
    "        } catch (IOException e) {\n",
    "            System.out.println(\"Error al escribir: \" + e.getMessage());\n",
    "        }\n",
    "    }\n",
    "}"
   ]
  },
  {
   "cell_type": "markdown",
   "id": "c6ec2b95",
   "metadata": {},
   "source": [
    "### Escribir en modo 'append'\n",
    "\n",
    "```java\n",
    "FileWriter escritor = new FileWriter(\"salida.txt\", true);\n",
    "```\n",
    "\n",
    "El parámetro `true` permite **añadir contenido al archivo** sin sobrescribir lo anterior. Útil para registros o acumulación de datos.\n"
   ]
  },
  {
   "cell_type": "markdown",
   "id": "f6daad1b",
   "metadata": {},
   "source": [
    "## 5. Combinar Lectura y Escritura\n",
    "\n",
    "### Ejemplo: copiar un archivo de texto\n"
   ]
  },
  {
   "cell_type": "code",
   "execution_count": null,
   "id": "bd709827",
   "metadata": {},
   "outputs": [],
   "source": [
    "import java.io.FileReader;\n",
    "import java.io.FileWriter;\n",
    "import java.io.IOException;\n",
    "\n",
    "public class CopiarTexto {\n",
    "    public static void main(String[] args) {\n",
    "        try (\n",
    "            FileReader lector = new FileReader(\"origen.txt\");\n",
    "            FileWriter escritor = new FileWriter(\"copia.txt\")\n",
    "        ) {\n",
    "            int caracter;\n",
    "            while ((caracter = lector.read()) != -1) {\n",
    "                escritor.write(caracter);\n",
    "            }\n",
    "\n",
    "            System.out.println(\"Archivo copiado correctamente.\");\n",
    "        } catch (IOException e) {\n",
    "            System.out.println(\"Error al copiar el archivo: \" + e.getMessage());\n",
    "        }\n",
    "    }\n",
    "}"
   ]
  },
  {
   "cell_type": "markdown",
   "id": "c9a3be88",
   "metadata": {},
   "source": [
    "## 6. Buenas prácticas\n",
    "\n",
    "- Usa `try-with-resources` para cerrar archivos automáticamente.\n",
    "- Siempre cierra los flujos con `close()`.\n",
    "- Usa `flush()` si necesitas asegurar que los datos se escriben antes de cerrar.\n",
    "- Controla errores con `IOException`.\n",
    "- **No** uses FileReader/FileWriter para archivos binarios.\n"
   ]
  },
  {
   "cell_type": "markdown",
   "id": "fb69ecfc",
   "metadata": {},
   "source": [
    "## 7. Comparativa con otros flujos\n",
    "\n",
    "| Característica             | FileReader/Writer   | BufferedReader/Writer | InputStream/OutputStream |\n",
    "|---------------------------|---------------------|------------------------|---------------------------|\n",
    "| Nivel de datos            | Caracteres (char)   | Caracteres (char)      | Bytes (byte)              |\n",
    "| Lectura/escritura por línea | ❌ No              | ✅ Sí (`readLine`)     | ❌ No                     |\n",
    "| Búfer automático          | ❌ No               | ✅ Sí                  | ❌ No (usa BufferedStream)|\n",
    "| Ideal para                | Archivos de texto pequeños | Archivos de texto grandes | Archivos binarios     |\n"
   ]
  },
  {
   "cell_type": "markdown",
   "id": "769f8c5e",
   "metadata": {},
   "source": [
    "## 8. Conclusión\n",
    "\n",
    "- Usa `FileReader` y `FileWriter` cuando trabajes con archivos de texto.\n",
    "- Prefiere `BufferedReader` o `BufferedWriter` para mejorar el rendimiento en archivos grandes.\n",
    "- Para datos binarios, utiliza `InputStream` y `OutputStream`.\n",
    "\n",
    "Estos conceptos son clave para manejar archivos eficientemente en Java.\n"
   ]
  }
 ],
 "metadata": {},
 "nbformat": 4,
 "nbformat_minor": 5
}
