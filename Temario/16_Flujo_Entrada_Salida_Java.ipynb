{
 "cells": [
  {
   "cell_type": "markdown",
   "id": "32d06b22",
   "metadata": {},
   "source": [
    "# Flujo de Entrada y Salida en Java: InputStream y OutputStream\n",
    "\n",
    "Resumen y ejemplos prácticos para clase."
   ]
  },
  {
   "cell_type": "markdown",
   "id": "42015b49",
   "metadata": {},
   "source": [
    "## 1. Introducción\n",
    "\n",
    "Los programas en Java a menudo necesitan comunicarse con el entorno: leer desde archivos, recibir datos del teclado, escribir en pantalla o guardar resultados. Esto se conoce como **Entrada/Salida (E/S o I/O)**.\n",
    "\n",
    "Java proporciona flujos (streams) para manejar datos byte a byte:\n",
    "\n",
    "- `InputStream`: lee datos.\n",
    "- `OutputStream`: escribe datos.\n",
    "\n",
    "Estos flujos son fundamentales para trabajar con archivos, redes, dispositivos o cualquier fuente/destino de datos.\n"
   ]
  },
  {
   "cell_type": "markdown",
   "id": "f89e7ae3",
   "metadata": {},
   "source": [
    "## 2. ¿Qué es un flujo?\n",
    "\n",
    "Un **flujo** es una secuencia ordenada de datos que se leen (entrada) o se escriben (salida). Ejemplos comunes:\n",
    "\n",
    "- Leer un archivo → flujo de entrada.\n",
    "- Escribir un archivo → flujo de salida.\n",
    "- Leer del teclado → entrada.\n",
    "- Imprimir en pantalla → salida.\n",
    "\n",
    "📌 **Analogía**: como una tubería de agua. Si entra hacia ti, es entrada. Si fluye desde ti, es salida.\n"
   ]
  },
  {
   "cell_type": "markdown",
   "id": "95216261",
   "metadata": {},
   "source": [
    "## 3. Clasificación de flujos\n",
    "\n",
    "Java divide los flujos en dos tipos principales:\n",
    "\n",
    "| Tipo     | Clase Base    | Función principal               |\n",
    "|----------|---------------|---------------------------------|\n",
    "| Entrada  | InputStream   | Leer datos byte a byte.         |\n",
    "| Salida   | OutputStream  | Escribir datos byte a byte.     |\n",
    "\n",
    "📌 Nota: trabajan con `byte`, ideales para archivos binarios.\n"
   ]
  },
  {
   "cell_type": "markdown",
   "id": "46747cd0",
   "metadata": {},
   "source": [
    "## 4. Clase `InputStream`: Lectura de datos\n",
    "\n",
    "`InputStream` es una clase abstracta para leer bytes desde archivos, redes, teclado, etc.\n",
    "\n",
    "### Métodos comunes:\n",
    "- `int read()` → Lee un byte.\n",
    "- `int read(byte[] b)` → Lee varios bytes.\n",
    "- `void close()` → Cierra el flujo.\n",
    "\n",
    "### Ejemplo: Leer archivo con FileInputStream\n"
   ]
  },
  {
   "cell_type": "code",
   "execution_count": null,
   "id": "19425a3e",
   "metadata": {},
   "outputs": [],
   "source": [
    "import java.io.FileInputStream;\n",
    "import java.io.IOException;\n",
    "\n",
    "public class LeerArchivo {\n",
    "    public static void main(String[] args) {\n",
    "        try {\n",
    "            FileInputStream entrada = new FileInputStream(\"datos.txt\");\n",
    "            int dato;\n",
    "\n",
    "            while ((dato = entrada.read()) != -1) {\n",
    "                System.out.print((char) dato); // Convertimos byte a carácter\n",
    "            }\n",
    "\n",
    "            entrada.close();\n",
    "        } catch (IOException e) {\n",
    "            System.out.println(\"Error al leer: \" + e.getMessage());\n",
    "        }\n",
    "    }\n",
    "}"
   ]
  },
  {
   "cell_type": "markdown",
   "id": "be2b7fc2",
   "metadata": {},
   "source": [
    "## 5. Clase `OutputStream`: Escritura de datos\n",
    "\n",
    "`OutputStream` permite escribir bytes hacia un destino (archivo, red, etc).\n",
    "\n",
    "### Métodos comunes:\n",
    "- `void write(int b)` → Escribe un byte.\n",
    "- `void write(byte[] b)` → Escribe varios bytes.\n",
    "- `void flush()` → Fuerza la escritura.\n",
    "- `void close()` → Cierra el flujo.\n",
    "\n",
    "### Ejemplo: Escribir archivo con FileOutputStream\n"
   ]
  },
  {
   "cell_type": "code",
   "execution_count": null,
   "id": "8f569f9b",
   "metadata": {},
   "outputs": [],
   "source": [
    "import java.io.FileOutputStream;\n",
    "import java.io.IOException;\n",
    "\n",
    "public class EscribirArchivo {\n",
    "    public static void main(String[] args) {\n",
    "        try {\n",
    "            FileOutputStream salida = new FileOutputStream(\"salida.txt\");\n",
    "            String texto = \"Este es un ejemplo de escritura.\";\n",
    "            byte[] datos = texto.getBytes();\n",
    "\n",
    "            salida.write(datos);\n",
    "            salida.close();\n",
    "        } catch (IOException e) {\n",
    "            System.out.println(\"Error al escribir: \" + e.getMessage());\n",
    "        }\n",
    "    }\n",
    "}"
   ]
  },
  {
   "cell_type": "markdown",
   "id": "b29aa09a",
   "metadata": {},
   "source": [
    "## 6. BufferedInputStream y BufferedOutputStream\n",
    "\n",
    "Leer y escribir byte a byte puede ser lento. Los **flujos con búfer** almacenan temporalmente los datos en memoria, mejorando el rendimiento.\n",
    "\n",
    "### Ejemplo: Copiar archivo con búfer\n"
   ]
  },
  {
   "cell_type": "code",
   "execution_count": null,
   "id": "9d9523c6",
   "metadata": {},
   "outputs": [],
   "source": [
    "import java.io.*;\n",
    "\n",
    "public class CopiarArchivo {\n",
    "    public static void main(String[] args) {\n",
    "        try (\n",
    "            BufferedInputStream entrada = new BufferedInputStream(new FileInputStream(\"origen.txt\"));\n",
    "            BufferedOutputStream salida = new BufferedOutputStream(new FileOutputStream(\"copia.txt\"))\n",
    "        ) {\n",
    "            int byteLeido;\n",
    "            while ((byteLeido = entrada.read()) != -1) {\n",
    "                salida.write(byteLeido);\n",
    "            }\n",
    "\n",
    "            System.out.println(\"Archivo copiado correctamente.\");\n",
    "        } catch (IOException e) {\n",
    "            System.out.println(\"Error al copiar: \" + e.getMessage());\n",
    "        }\n",
    "    }\n",
    "}"
   ]
  },
  {
   "cell_type": "markdown",
   "id": "52c3c5d3",
   "metadata": {},
   "source": [
    "## 7. Bloques `try-with-resources` (Java 7+)\n",
    "\n",
    "Evita olvidarse de cerrar flujos. Cierra automáticamente los recursos al finalizar.\n",
    "\n",
    "```java\n",
    "try (FileInputStream fis = new FileInputStream(\"archivo.txt\")) {\n",
    "    // leer datos\n",
    "} catch (IOException e) {\n",
    "    // manejar error\n",
    "}\n",
    "// fis se cierra automáticamente aquí\n",
    "```"
   ]
  },
  {
   "cell_type": "markdown",
   "id": "3e217ebd",
   "metadata": {},
   "source": [
    "## 8. Comparativa entre InputStream y OutputStream\n",
    "\n",
    "| Característica       | InputStream              | OutputStream             |\n",
    "|----------------------|--------------------------|--------------------------|\n",
    "| ¿Qué hace?           | Lee datos byte a byte    | Escribe datos byte a byte|\n",
    "| Clase base abstracta | ✅ Sí                    | ✅ Sí                    |\n",
    "| Métodos comunes      | read(), read(byte[])     | write(), write(byte[])   |\n",
    "| ¿Se debe cerrar?     | ✅ Sí                    | ✅ Sí                    |\n",
    "| Subclases comunes    | FileInputStream, BufferedInputStream | FileOutputStream, BufferedOutputStream |\n"
   ]
  },
  {
   "cell_type": "markdown",
   "id": "d5f91342",
   "metadata": {},
   "source": [
    "## 9. Conclusión\n",
    "\n",
    "- `InputStream` y `OutputStream` permiten trabajar con flujos de bytes.\n",
    "- Se usan para leer/escribir archivos, datos binarios o trabajar con redes.\n",
    "- Los flujos con búfer y el `try-with-resources` mejoran rendimiento y limpieza del código.\n"
   ]
  }
 ],
 "metadata": {},
 "nbformat": 4,
 "nbformat_minor": 5
}
