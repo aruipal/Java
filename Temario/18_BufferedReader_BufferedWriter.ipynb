{
 "cells": [
  {
   "cell_type": "markdown",
   "id": "a3a3953a",
   "metadata": {},
   "source": [
    "# Uso de BufferedReader y BufferedWriter en Java\n",
    "\n",
    "Resumen y ejemplos prácticos para manejar grandes cantidades de datos."
   ]
  },
  {
   "cell_type": "markdown",
   "id": "645783eb",
   "metadata": {},
   "source": [
    "## 1. Introducción\n",
    "\n",
    "Cuando trabajamos con archivos grandes, leer o escribir carácter a carácter puede ser ineficiente. Para resolver esto, Java ofrece:\n",
    "\n",
    "- `BufferedReader` para lectura eficiente de texto.\n",
    "- `BufferedWriter` para escritura optimizada.\n",
    "\n",
    "Ambos utilizan un **buffer de memoria intermedio** que reduce el número de accesos al disco, mejorando el rendimiento.\n"
   ]
  },
  {
   "cell_type": "markdown",
   "id": "b1af4882",
   "metadata": {},
   "source": [
    "## 2. ¿Qué es un Buffer?\n",
    "\n",
    "Un **buffer** es un área de memoria temporal donde se almacenan los datos antes de procesarlos o escribirlos.\n",
    "\n",
    "### Beneficios:\n",
    "- Menos accesos al disco = mayor rendimiento.\n",
    "- Mayor velocidad en operaciones de E/S.\n",
    "- Menor desgaste del almacenamiento.\n",
    "\n",
    "```java\n",
    "BufferedReader lector = new BufferedReader(new FileReader(\"archivo.txt\"));\n",
    "BufferedWriter escritor = new BufferedWriter(new FileWriter(\"archivo.txt\"));\n",
    "```"
   ]
  },
  {
   "cell_type": "markdown",
   "id": "3da921bd",
   "metadata": {},
   "source": [
    "## 3. BufferedReader: Lectura eficiente de texto\n",
    "\n",
    "### Métodos clave:\n",
    "- `readLine()` → Lee una línea completa.\n",
    "- `read(char[])` → Lee bloques de caracteres.\n",
    "- `close()` → Cierra el flujo.\n",
    "\n",
    "Ideal para:\n",
    "- Leer archivos grandes línea a línea.\n",
    "- Leer entrada desde consola.\n"
   ]
  },
  {
   "cell_type": "code",
   "execution_count": null,
   "id": "d24d9010",
   "metadata": {},
   "outputs": [],
   "source": [
    "import java.io.*;\n",
    "\n",
    "public class LecturaBuffered {\n",
    "    public static void main(String[] args) {\n",
    "        try (BufferedReader lector = new BufferedReader(new FileReader(\"entrada.txt\"))) {\n",
    "            String linea;\n",
    "            while ((linea = lector.readLine()) != null) {\n",
    "                System.out.println(linea);\n",
    "            }\n",
    "        } catch (IOException e) {\n",
    "            System.out.println(\"Error al leer el archivo: \" + e.getMessage());\n",
    "        }\n",
    "    }\n",
    "}"
   ]
  },
  {
   "cell_type": "markdown",
   "id": "6550f10e",
   "metadata": {},
   "source": [
    "## 4. BufferedWriter: Escritura eficiente de texto\n",
    "\n",
    "### Métodos clave:\n",
    "- `write(String)` → Escribe una cadena.\n",
    "- `newLine()` → Inserta salto de línea según el sistema operativo.\n",
    "- `flush()` → Fuerza la escritura del buffer.\n",
    "- `close()` → Cierra el flujo.\n",
    "\n",
    "Ideal para:\n",
    "- Crear registros, informes, archivos generados por código.\n"
   ]
  },
  {
   "cell_type": "code",
   "execution_count": null,
   "id": "4adc284b",
   "metadata": {},
   "outputs": [],
   "source": [
    "import java.io.*;\n",
    "\n",
    "public class EscrituraBuffered {\n",
    "    public static void main(String[] args) {\n",
    "        try (BufferedWriter escritor = new BufferedWriter(new FileWriter(\"salida.txt\"))) {\n",
    "            escritor.write(\"Primera línea\");\n",
    "            escritor.newLine();\n",
    "            escritor.write(\"Segunda línea\");\n",
    "            escritor.newLine();\n",
    "            escritor.write(\"Tercera línea\");\n",
    "        } catch (IOException e) {\n",
    "            System.out.println(\"Error al escribir: \" + e.getMessage());\n",
    "        }\n",
    "    }\n",
    "}"
   ]
  },
  {
   "cell_type": "markdown",
   "id": "4e8be974",
   "metadata": {},
   "source": [
    "## 5. Ejemplo práctico: copiar un archivo línea por línea\n",
    "\n",
    "Combina `BufferedReader` y `BufferedWriter` para leer y escribir texto eficientemente.\n"
   ]
  },
  {
   "cell_type": "code",
   "execution_count": null,
   "id": "0d573289",
   "metadata": {},
   "outputs": [],
   "source": [
    "import java.io.*;\n",
    "\n",
    "public class CopiarArchivoTexto {\n",
    "    public static void main(String[] args) {\n",
    "        try (\n",
    "            BufferedReader lector = new BufferedReader(new FileReader(\"origen.txt\"));\n",
    "            BufferedWriter escritor = new BufferedWriter(new FileWriter(\"destino.txt\"))\n",
    "        ) {\n",
    "            String linea;\n",
    "            while ((linea = lector.readLine()) != null) {\n",
    "                escritor.write(linea);\n",
    "                escritor.newLine();\n",
    "            }\n",
    "            System.out.println(\"Archivo copiado correctamente.\");\n",
    "        } catch (IOException e) {\n",
    "            System.out.println(\"Error: \" + e.getMessage());\n",
    "        }\n",
    "    }\n",
    "}"
   ]
  },
  {
   "cell_type": "markdown",
   "id": "cfcaeb7f",
   "metadata": {},
   "source": [
    "## 6. Buenas prácticas\n",
    "\n",
    "- Usa `try-with-resources` para cerrar flujos automáticamente.\n",
    "- Usa `newLine()` para mantener la portabilidad del salto de línea.\n",
    "- Llama a `flush()` si necesitas forzar la escritura inmediata.\n",
    "- Evita sobrescribir archivos sin respaldo previo.\n",
    "- Valida la existencia del archivo antes de abrirlo.\n",
    "- Usa excepciones específicas para un manejo más preciso.\n"
   ]
  },
  {
   "cell_type": "markdown",
   "id": "215d6ee1",
   "metadata": {},
   "source": [
    "## 7. Conclusión\n",
    "\n",
    "`BufferedReader` y `BufferedWriter` son herramientas esenciales para procesar texto en archivos grandes con eficiencia y claridad. Su uso adecuado mejora el rendimiento y la portabilidad de las aplicaciones Java que manejan texto.\n"
   ]
  }
 ],
 "metadata": {},
 "nbformat": 4,
 "nbformat_minor": 5
}
