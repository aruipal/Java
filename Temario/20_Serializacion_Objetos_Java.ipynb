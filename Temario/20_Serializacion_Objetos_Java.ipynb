{
 "cells": [
  {
   "cell_type": "markdown",
   "id": "d6be8599",
   "metadata": {},
   "source": [
    "# Serialización de Objetos en Java\n",
    "\n",
    "Resumen y ejemplos prácticos para clase."
   ]
  },
  {
   "cell_type": "markdown",
   "id": "46645875",
   "metadata": {},
   "source": [
    "## 1. Introducción\n",
    "\n",
    "La **serialización** permite convertir un objeto Java en una **secuencia de bytes** para almacenarlo en un archivo, enviarlo por red o guardarlo en memoria.\n",
    "\n",
    "La **deserialización** es el proceso inverso: reconstruir el objeto desde los bytes guardados.\n",
    "\n",
    "📌 Útil en:\n",
    "- Aplicaciones que guardan configuraciones.\n",
    "- Sistemas distribuidos.\n",
    "- Juegos (guardar partidas).\n"
   ]
  },
  {
   "cell_type": "markdown",
   "id": "8c1e871c",
   "metadata": {},
   "source": [
    "## 2. Conceptos clave\n",
    "\n",
    "| Término           | Descripción                                                                 |\n",
    "|-------------------|------------------------------------------------------------------------------|\n",
    "| Serialización     | Convertir un objeto en una secuencia de bytes                               |\n",
    "| Deserialización   | Reconstruir un objeto desde una secuencia de bytes                          |\n",
    "| Serializable      | Interfaz que indica que una clase se puede serializar                       |\n",
    "| serialVersionUID  | Identificador único para verificar compatibilidad entre clases serializadas |\n",
    "\n",
    "La clase debe implementar la interfaz `Serializable`. No tiene métodos, solo es una marca.\n"
   ]
  },
  {
   "cell_type": "markdown",
   "id": "4c2c9825",
   "metadata": {},
   "source": [
    "### Ejemplo de clase serializable"
   ]
  },
  {
   "cell_type": "code",
   "execution_count": null,
   "id": "a88ac2cd",
   "metadata": {},
   "outputs": [],
   "source": [
    "import java.io.Serializable;\n",
    "\n",
    "public class Persona implements Serializable {\n",
    "    private static final long serialVersionUID = 1L;\n",
    "\n",
    "    private String nombre;\n",
    "    private int edad;\n",
    "\n",
    "    public Persona(String nombre, int edad) {\n",
    "        this.nombre = nombre;\n",
    "        this.edad = edad;\n",
    "    }\n",
    "\n",
    "    public String getNombre() { return nombre; }\n",
    "    public int getEdad() { return edad; }\n",
    "}"
   ]
  },
  {
   "cell_type": "markdown",
   "id": "7f2a8130",
   "metadata": {},
   "source": [
    "## 3. Serialización (guardar un objeto)\n",
    "\n",
    "Utilizamos `ObjectOutputStream` para escribir el objeto en un archivo.\n"
   ]
  },
  {
   "cell_type": "code",
   "execution_count": null,
   "id": "0dfa753f",
   "metadata": {},
   "outputs": [],
   "source": [
    "import java.io.*;\n",
    "\n",
    "public class SerializarPersona {\n",
    "    public static void main(String[] args) {\n",
    "        Persona p = new Persona(\"Lucía\", 25);\n",
    "\n",
    "        try (ObjectOutputStream oos = new ObjectOutputStream(new FileOutputStream(\"persona.ser\"))) {\n",
    "            oos.writeObject(p);\n",
    "            System.out.println(\"Objeto serializado correctamente.\");\n",
    "        } catch (IOException e) {\n",
    "            System.out.println(\"Error al serializar: \" + e.getMessage());\n",
    "        }\n",
    "    }\n",
    "}"
   ]
  },
  {
   "cell_type": "markdown",
   "id": "769a09c7",
   "metadata": {},
   "source": [
    "## 4. Deserialización (leer un objeto)\n",
    "\n",
    "Utilizamos `ObjectInputStream` para leer el objeto desde el archivo.\n"
   ]
  },
  {
   "cell_type": "code",
   "execution_count": null,
   "id": "b5479864",
   "metadata": {},
   "outputs": [],
   "source": [
    "import java.io.*;\n",
    "\n",
    "public class DeserializarPersona {\n",
    "    public static void main(String[] args) {\n",
    "        try (ObjectInputStream ois = new ObjectInputStream(new FileInputStream(\"persona.ser\"))) {\n",
    "            Persona p = (Persona) ois.readObject();\n",
    "            System.out.println(\"Nombre: \" + p.getNombre());\n",
    "            System.out.println(\"Edad: \" + p.getEdad());\n",
    "        } catch (IOException | ClassNotFoundException e) {\n",
    "            System.out.println(\"Error al deserializar: \" + e.getMessage());\n",
    "        }\n",
    "    }\n",
    "}"
   ]
  },
  {
   "cell_type": "markdown",
   "id": "1cdb6528",
   "metadata": {},
   "source": [
    "## 5. Consideraciones importantes\n",
    "\n",
    "- Todos los atributos deben ser serializables.\n",
    "- Atributos no serializables deben marcarse como `transient`.\n",
    "\n",
    "```java\n",
    "private transient Socket conexion;\n",
    "```\n",
    "\n",
    "- Se recomienda declarar `serialVersionUID` para evitar errores de compatibilidad.\n",
    "- Se pueden serializar colecciones completas (listas, árboles, etc.).\n"
   ]
  },
  {
   "cell_type": "markdown",
   "id": "b72eef90",
   "metadata": {},
   "source": [
    "## 6. Ventajas de la serialización\n",
    "\n",
    "✅ Permite guardar objetos completos con todos sus atributos.  \n",
    "✅ Ideal para persistencia temporal sin usar bases de datos.  \n",
    "✅ Fundamental en tecnologías como RMI, sockets y sistemas distribuidos.  \n",
    "✅ Útil para guardar configuraciones, partidas de juegos o el estado de la aplicación.\n"
   ]
  }
 ],
 "metadata": {},
 "nbformat": 4,
 "nbformat_minor": 5
}
