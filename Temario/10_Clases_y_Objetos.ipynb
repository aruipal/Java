{
  "cells": [
    {
      "cell_type": "markdown",
      "metadata": {},
      "source": [
        "# Clases y Objetos en Java\n",
        "Este notebook introduce los conceptos fundamentales de clases, objetos y constructores en la Programación Orientada a Objetos (POO) en Java."
      ]
    },
    {
      "cell_type": "markdown",
      "metadata": {},
      "source": [
        "## ¿Qué es una clase?\n",
        "Una clase es un modelo que define atributos y métodos que describen un tipo de objeto."
      ]
    },
    {
      "cell_type": "code",
      "metadata": {},
      "source": [
        "public class Coche {\n",
        "    String marca;\n",
        "    String modelo;\n",
        "    int velocidad;\n",
        "\n",
        "    public void mostrarInfo() {\n",
        "        System.out.println(\"Marca: \" + marca);\n",
        "        System.out.println(\"Modelo: \" + modelo);\n",
        "        System.out.println(\"Velocidad: \" + velocidad + \" km/h\");\n",
        "    }\n",
        "}"
      ],
      "execution_count": null,
      "outputs": []
    },
    {
      "cell_type": "markdown",
      "metadata": {},
      "source": [
        "## ¿Qué es un objeto?\n",
        "Un objeto es una instancia concreta de una clase."
      ]
    },
    {
      "cell_type": "code",
      "metadata": {},
      "source": [
        "Coche miCoche = new Coche();\n",
        "miCoche.marca = \"Toyota\";\n",
        "miCoche.modelo = \"Corolla\";\n",
        "miCoche.velocidad = 120;\n",
        "miCoche.mostrarInfo();"
      ],
      "execution_count": null,
      "outputs": []
    },
    {
      "cell_type": "markdown",
      "metadata": {},
      "source": [
        "### Otro ejemplo de objeto"
      ]
    },
    {
      "cell_type": "code",
      "metadata": {},
      "source": [
        "Coche otroCoche = new Coche();\n",
        "otroCoche.marca = \"Honda\";\n",
        "otroCoche.modelo = \"Civic\";\n",
        "otroCoche.velocidad = 100;\n",
        "otroCoche.mostrarInfo();"
      ],
      "execution_count": null,
      "outputs": []
    },
    {
      "cell_type": "markdown",
      "metadata": {},
      "source": [
        "## Relación entre clases y objetos"
      ]
    },
    {
      "cell_type": "code",
      "metadata": {},
      "source": [
        "public class Persona {\n",
        "    String nombre;\n",
        "    int edad;\n",
        "\n",
        "    public void presentarse() {\n",
        "        System.out.println(\"Hola, mi nombre es \" + nombre + \" y tengo \" + edad + \" años.\");\n",
        "    }\n",
        "}\n",
        "\n",
        "Persona persona1 = new Persona();\n",
        "persona1.nombre = \"Juan\";\n",
        "persona1.edad = 25;\n",
        "persona1.presentarse();\n",
        "\n",
        "Persona persona2 = new Persona();\n",
        "persona2.nombre = \"María\";\n",
        "persona2.edad = 30;\n",
        "persona2.presentarse();"
      ],
      "execution_count": null,
      "outputs": []
    },
    {
      "cell_type": "markdown",
      "metadata": {},
      "source": [
        "## Constructores: inicializando objetos con valores"
      ]
    },
    {
      "cell_type": "code",
      "metadata": {},
      "source": [
        "public class Coche {\n",
        "    String marca;\n",
        "    String modelo;\n",
        "    int velocidad;\n",
        "\n",
        "    public Coche(String marca, String modelo, int velocidad) {\n",
        "        this.marca = marca;\n",
        "        this.modelo = modelo;\n",
        "        this.velocidad = velocidad;\n",
        "    }\n",
        "\n",
        "    public void mostrarInfo() {\n",
        "        System.out.println(\"Marca: \" + marca);\n",
        "        System.out.println(\"Modelo: \" + modelo);\n",
        "        System.out.println(\"Velocidad: \" + velocidad + \" km/h\");\n",
        "    }\n",
        "}\n",
        "\n",
        "Coche coche1 = new Coche(\"Toyota\", \"Corolla\", 120);\n",
        "coche1.mostrarInfo();\n",
        "\n",
        "Coche coche2 = new Coche(\"Honda\", \"Civic\", 100);\n",
        "coche2.mostrarInfo();"
      ],
      "execution_count": null,
      "outputs": []
    },
    {
      "cell_type": "markdown",
      "metadata": {},
      "source": [
        "# 🧠 Ejercicios Propuestos\n",
        "### 1. Crea una clase `Libro` con atributos `titulo`, `autor` y `paginas`, y un método que muestre su información.\n",
        "```java\n// Tu código aquí\n```\n",
        "### 2. Define una clase `Alumno` con un constructor que reciba `nombre` y `nota`, y un método que indique si ha aprobado.\n",
        "```java\n// Tu código aquí\n```\n",
        "### 3. Escribe una clase `Circulo` con un atributo `radio` y un método que calcule el área.\n",
        "```java\n// Tu código aquí\n```\n",
        "### 4. Crea una clase `CuentaBancaria` con `saldo` y métodos `depositar` y `retirar`.\n",
        "```java\n// Tu código aquí\n```\n",
        "### 5. Crea varios objetos de una clase `Animal` y haz que cada uno tenga un método que imprima su sonido.\n",
        "```java\n// Tu código aquí\n```"
      ]
    }
  ],
  "metadata": {
    "kernelspec": {
      "name": "java",
      "language": "java",
      "display_name": "Java"
    },
    "language_info": {
      "name": "java"
    }
  },
  "nbformat": 4,
  "nbformat_minor": 2
}