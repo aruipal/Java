{
 "cells": [
  {
   "cell_type": "markdown",
   "id": "46809e2d",
   "metadata": {},
   "source": [
    "# 🔗 JDBC: Establecer Conexiones y Gestionar Recursos"
   ]
  },
  {
   "cell_type": "markdown",
   "id": "5cf2a197",
   "metadata": {},
   "source": [
    "\n",
    "## 1. Introducción\n",
    "\n",
    "En este cuadernillo aprenderás a trabajar con las clases `Connection`, `Statement` y `ResultSet`, que forman el núcleo de cualquier aplicación JDBC.\n",
    "\n",
    "Saber usarlas correctamente permite mejorar el rendimiento, evitar errores y escribir código limpio y mantenible.\n"
   ]
  },
  {
   "cell_type": "markdown",
   "id": "4e30f5d9",
   "metadata": {},
   "source": [
    "\n",
    "## 2. `Connection`: Estableciendo la Conexión\n",
    "\n",
    "Una conexión es la vía que une nuestra aplicación Java con la base de datos. Se obtiene con `DriverManager.getConnection()`.\n",
    "\n",
    "```java\n",
    "String url = \"jdbc:mysql://192.168.7.41:3306/escuela\";\n",
    "Connection conexion = DriverManager.getConnection(url, \"SuPeRuSeR\", \"SuPeR2024Us3R\");\n",
    "```\n",
    "\n",
    "🔍 **Formato de URL JDBC**: `jdbc:mysql://host:puerto/nombreBD`\n"
   ]
  },
  {
   "cell_type": "markdown",
   "id": "3ec93f56",
   "metadata": {},
   "source": [
    "\n",
    "## 3. `Statement`: Ejecutar Sentencias SQL\n",
    "\n",
    "Permite ejecutar SQL sin parámetros:\n",
    "\n",
    "```java\n",
    "Statement stmt = conexion.createStatement();\n",
    "ResultSet rs = stmt.executeQuery(\"SELECT * FROM alumnos\");\n",
    "\n",
    "int filas = stmt.executeUpdate(\"DELETE FROM alumnos WHERE edad < 18\");\n",
    "System.out.println(\"Filas eliminadas: \" + filas);\n",
    "```\n",
    "\n",
    "📌 Usa `executeQuery()` para `SELECT` y `executeUpdate()` para `INSERT`, `UPDATE`, `DELETE`.\n"
   ]
  },
  {
   "cell_type": "markdown",
   "id": "54047a78",
   "metadata": {},
   "source": [
    "\n",
    "## 4. `ResultSet`: Procesar Resultados\n",
    "\n",
    "Contiene los datos devueltos por una consulta SQL. Puedes recorrerlo con `while (rs.next())`:\n",
    "\n",
    "```java\n",
    "while (rs.next()) {\n",
    "    int id = rs.getInt(\"id\");\n",
    "    String nombre = rs.getString(\"nombre\");\n",
    "    int edad = rs.getInt(\"edad\");\n",
    "\n",
    "    System.out.println(\"ID: \" + id + \", Nombre: \" + nombre + \", Edad: \" + edad);\n",
    "}\n",
    "```\n",
    "\n",
    "🎯 Accede a columnas por nombre para mayor claridad y estabilidad del código.\n"
   ]
  },
  {
   "cell_type": "markdown",
   "id": "a7b7e76c",
   "metadata": {},
   "source": [
    "\n",
    "## 5. Gestión de Recursos: Cierre Correcto\n",
    "\n",
    "Siempre cierra tus recursos en este orden: `ResultSet` → `Statement` → `Connection`.\n",
    "\n",
    "```java\n",
    "rs.close();\n",
    "stmt.close();\n",
    "conexion.close();\n",
    "```\n",
    "\n",
    "🆕 Desde Java 7, puedes usar `try-with-resources` para que los recursos se cierren automáticamente:\n",
    "\n",
    "```java\n",
    "try (Connection conexion = DriverManager.getConnection(url, \"SuPeRuSeR\", \"SuPeR2024Us3R\");\n",
    "     Statement stmt = conexion.createStatement();\n",
    "     ResultSet rs = stmt.executeQuery(\"SELECT * FROM alumnos\")) {\n",
    "\n",
    "    while (rs.next()) {\n",
    "        System.out.println(rs.getString(\"nombre\"));\n",
    "    }\n",
    "\n",
    "} catch (SQLException e) {\n",
    "    e.printStackTrace();\n",
    "}\n",
    "```\n"
   ]
  },
  {
   "cell_type": "markdown",
   "id": "b2e0a1a1",
   "metadata": {},
   "source": [
    "\n",
    "## 6. Buenas Prácticas con JDBC\n",
    "\n",
    "✅ Usa `try-with-resources` siempre que sea posible.  \n",
    "✅ Abre la conexión solo cuando la necesites y ciérrala cuanto antes.  \n",
    "✅ Evita reusar conexiones sin control: usa `pools` (más adelante).  \n",
    "✅ Prefiere `PreparedStatement` para evitar inyecciones SQL.  \n",
    "✅ Separa la lógica de base de datos en clases DAO.  \n",
    "✅ Maneja excepciones con mensajes claros y logs.\n"
   ]
  }
 ],
 "metadata": {},
 "nbformat": 4,
 "nbformat_minor": 5
}
