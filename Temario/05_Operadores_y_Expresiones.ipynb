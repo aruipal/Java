{
  "cells": [
    {
      "cell_type": "markdown",
      "metadata": {},
      "source": [
        "# Operadores y Expresiones en Java\n",
        "Este notebook explica los diferentes tipos de operadores y expresiones en Java, con ejemplos y ejercicios para practicar."
      ]
    },
    {
      "cell_type": "markdown",
      "metadata": {},
      "source": [
        "## ¿Qué es un operador?\n",
        "Un operador es un símbolo que realiza una operación sobre uno o más valores llamados operandos."
      ]
    },
    {
      "cell_type": "code",
      "metadata": {},
      "source": [
        "int resultado = 10 + 5;\n",
        "System.out.println(\"Resultado: \" + resultado);"
      ],
      "execution_count": null,
      "outputs": []
    },
    {
      "cell_type": "markdown",
      "metadata": {},
      "source": [
        "## ¿Qué es una expresión?\n",
        "Una expresión es cualquier combinación de operadores y operandos que produce un valor."
      ]
    },
    {
      "cell_type": "code",
      "metadata": {},
      "source": [
        "int resultado = 10 + (5 * 2);\n",
        "System.out.println(\"Resultado de la expresión: \" + resultado);"
      ],
      "execution_count": null,
      "outputs": []
    },
    {
      "cell_type": "markdown",
      "metadata": {},
      "source": [
        "## Operadores Aritméticos"
      ]
    },
    {
      "cell_type": "code",
      "metadata": {},
      "source": [
        "int a = 15, b = 4;\n",
        "System.out.println(\"Suma: \" + (a + b));\n",
        "System.out.println(\"Resta: \" + (a - b));\n",
        "System.out.println(\"Producto: \" + (a * b));\n",
        "System.out.println(\"Cociente: \" + (a / b));\n",
        "System.out.println(\"Resto: \" + (a % b));"
      ],
      "execution_count": null,
      "outputs": []
    },
    {
      "cell_type": "markdown",
      "metadata": {},
      "source": [
        "## Operadores de Asignación"
      ]
    },
    {
      "cell_type": "code",
      "metadata": {},
      "source": [
        "int x = 10;\n",
        "x += 5;\n",
        "x *= 2;\n",
        "System.out.println(\"Valor final de x: \" + x);"
      ],
      "execution_count": null,
      "outputs": []
    },
    {
      "cell_type": "markdown",
      "metadata": {},
      "source": [
        "## Operadores de Comparación"
      ]
    },
    {
      "cell_type": "code",
      "metadata": {},
      "source": [
        "int a = 7, b = 5;\n",
        "System.out.println(\"¿a == b? \" + (a == b));\n",
        "System.out.println(\"¿a > b? \" + (a > b));\n",
        "System.out.println(\"¿a < b? \" + (a < b));"
      ],
      "execution_count": null,
      "outputs": []
    },
    {
      "cell_type": "markdown",
      "metadata": {},
      "source": [
        "## Operadores Lógicos"
      ]
    },
    {
      "cell_type": "code",
      "metadata": {},
      "source": [
        "boolean cond1 = (5 > 3);\n",
        "boolean cond2 = (10 < 20);\n",
        "System.out.println(\"cond1 && cond2: \" + (cond1 && cond2));\n",
        "System.out.println(\"cond1 || false: \" + (cond1 || false));\n",
        "System.out.println(\"!cond1: \" + (!cond1));"
      ],
      "execution_count": null,
      "outputs": []
    },
    {
      "cell_type": "markdown",
      "metadata": {},
      "source": [
        "## Operadores Unarios"
      ]
    },
    {
      "cell_type": "code",
      "metadata": {},
      "source": [
        "int c = 5;\n",
        "c++;\n",
        "c--;\n",
        "System.out.println(\"Valor de c: \" + c);\n",
        "boolean esVerdadero = true;\n",
        "System.out.println(\"Negación: \" + !esVerdadero);"
      ],
      "execution_count": null,
      "outputs": []
    },
    {
      "cell_type": "markdown",
      "metadata": {},
      "source": [
        "## Operadores Bit a Bit"
      ]
    },
    {
      "cell_type": "code",
      "metadata": {},
      "source": [
        "int num1 = 5; // 0101\n",
        "int num2 = 3; // 0011\n",
        "int resultado = num1 & num2;\n",
        "System.out.println(\"AND bit a bit: \" + resultado);"
      ],
      "execution_count": null,
      "outputs": []
    },
    {
      "cell_type": "markdown",
      "metadata": {},
      "source": [
        "## Precedencia de Operadores"
      ]
    },
    {
      "cell_type": "code",
      "metadata": {},
      "source": [
        "int res1 = 10 + 5 * 2;\n",
        "int res2 = (10 + 5) * 2;\n",
        "System.out.println(\"Sin paréntesis: \" + res1);\n",
        "System.out.println(\"Con paréntesis: \" + res2);"
      ],
      "execution_count": null,
      "outputs": []
    },
    {
      "cell_type": "markdown",
      "metadata": {},
      "source": [
        "# 🧠 Ejercicios Propuestos\n",
        "### 1. Crea un programa que calcule el área de un rectángulo usando variables base y altura.\n",
        "```java\n// Tu código aquí\n```\n",
        "### 2. Declara dos variables `int` y usa operadores aritméticos para mostrar sus resultados.\n",
        "```java\n// Tu código aquí\n```\n",
        "### 3. Declara un booleano y usa operadores lógicos con una condición.\n",
        "```java\n// Tu código aquí\n```\n",
        "### 4. Utiliza operadores de comparación entre dos valores y muestra el resultado.\n",
        "```java\n// Tu código aquí\n```\n",
        "### 5. Usa un operador unario para incrementar y luego decrementar una variable.\n",
        "```java\n// Tu código aquí\n```"
      ]
    }
  ],
  "metadata": {
    "kernelspec": {
      "name": "java",
      "language": "java",
      "display_name": "Java"
    },
    "language_info": {
      "name": "java"
    }
  },
  "nbformat": 4,
  "nbformat_minor": 2
}