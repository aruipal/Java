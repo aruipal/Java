{
 "cells": [
  {
   "cell_type": "markdown",
   "id": "69c12a50",
   "metadata": {},
   "source": [
    "# 📝 Conectando Java con MySQL: Preparación del Entorno y Primeros Pasos"
   ]
  },
  {
   "cell_type": "markdown",
   "id": "b52f148e",
   "metadata": {},
   "source": [
    "\n",
    "## 1. Introducción\n",
    "\n",
    "Este cuadernillo te guiará en el proceso de conectar una aplicación Java con una base de datos MySQL. Aprenderás a instalar y configurar los elementos necesarios, crear una base de datos de ejemplo y escribir código Java para conectar y manejar datos.\n",
    "\n",
    "**¿Por qué MySQL y Java?**\n",
    "- MySQL es un sistema de gestión de bases de datos robusto y muy utilizado.\n",
    "- Java ofrece portabilidad y es ideal para desarrollar aplicaciones escalables.\n",
    "\n",
    "**¿Qué es JDBC?**\n",
    "- JDBC (Java Database Connectivity) es una API que permite que Java interactúe con bases de datos.\n"
   ]
  },
  {
   "cell_type": "markdown",
   "id": "c010880d",
   "metadata": {},
   "source": [
    "\n",
    "## 2. Requisitos del Entorno\n",
    "\n",
    "- Contenedor Docker con MySQL (IP: `192.168.7.41`)\n",
    "- Usuario: `SuPeRuSeR`, Contraseña: `SuPeR2024Us3R`\n",
    "- MySQL Workbench o DBeaver (opcional)\n",
    "- JDK instalado\n",
    "- IDE (Eclipse, IntelliJ, VS Code, etc.)\n",
    "- Conector JDBC (`mysql-connector-java-8.0.xx.jar`)\n"
   ]
  },
  {
   "cell_type": "markdown",
   "id": "44b3a6c5",
   "metadata": {},
   "source": [
    "\n",
    "## 3. Configuración del Proyecto Java\n",
    "\n",
    "1. Crea una carpeta llamada `lib` en tu proyecto Java.\n",
    "2. Copia dentro el archivo `.jar` del conector JDBC.\n",
    "3. Añádelo al classpath desde tu IDE:\n",
    "   - **NetBeans**: clic derecho > Propiedades > Bibliotecas > Añadir JAR.\n",
    "   - **VS Code**: configura `settings.json` o usa Maven/Gradle.\n"
   ]
  },
  {
   "cell_type": "markdown",
   "id": "72528ba0",
   "metadata": {},
   "source": [
    "\n",
    "## 4. Crear la Base de Datos y Tabla de Ejemplo\n",
    "\n",
    "Desde consola MySQL:\n",
    "\n",
    "```sql\n",
    "CREATE DATABASE escuela;\n",
    "USE escuela;\n",
    "\n",
    "CREATE TABLE alumnos (\n",
    "    id INT PRIMARY KEY,\n",
    "    nombre VARCHAR(50),\n",
    "    edad INT,\n",
    "    curso VARCHAR(10)\n",
    ");\n",
    "\n",
    "INSERT INTO alumnos VALUES (1, 'Lucía', 18, 'DAM1');\n",
    "INSERT INTO alumnos VALUES (2, 'Carlos', 19, 'DAM2');\n",
    "```\n"
   ]
  },
  {
   "cell_type": "markdown",
   "id": "e3a3b514",
   "metadata": {},
   "source": [
    "\n",
    "## 5. Ejemplo de Código Java: Conexión a MySQL\n",
    "\n",
    "```java\n",
    "import java.sql.Connection;\n",
    "import java.sql.DriverManager;\n",
    "import java.sql.ResultSet;\n",
    "import java.sql.Statement;\n",
    "\n",
    "public class ConexionMySQL {\n",
    "    public static void main(String[] args) {\n",
    "        String url = \"jdbc:mysql://192.168.7.41:3306/escuela\";\n",
    "        String usuario = \"SuPeRuSeR\";\n",
    "        String contraseña = \"SuPeR2024Us3R\";\n",
    "\n",
    "        try {\n",
    "            Connection conexion = DriverManager.getConnection(url, usuario, contraseña);\n",
    "            Statement stmt = conexion.createStatement();\n",
    "            ResultSet rs = stmt.executeQuery(\"SELECT * FROM alumnos\");\n",
    "\n",
    "            while (rs.next()) {\n",
    "                System.out.println(rs.getInt(\"id\") + \" - \" + rs.getString(\"nombre\"));\n",
    "            }\n",
    "\n",
    "            rs.close();\n",
    "            stmt.close();\n",
    "            conexion.close();\n",
    "        } catch (Exception e) {\n",
    "            e.printStackTrace();\n",
    "        }\n",
    "    }\n",
    "}\n",
    "```\n"
   ]
  },
  {
   "cell_type": "markdown",
   "id": "c55e6f53",
   "metadata": {},
   "source": [
    "\n",
    "## 6. 🛡️ Manejo de Excepciones JDBC\n",
    "\n",
    "Es importante manejar adecuadamente las excepciones al trabajar con bases de datos.\n",
    "\n",
    "```java\n",
    "try {\n",
    "    Connection conn = DriverManager.getConnection(url, usuario, contraseña);\n",
    "} catch (SQLException e) {\n",
    "    System.out.println(\"Código de error: \" + e.getErrorCode());\n",
    "    System.out.println(\"Estado SQL: \" + e.getSQLState());\n",
    "    System.out.println(\"Mensaje: \" + e.getMessage());\n",
    "} finally {\n",
    "    if (conn != null) try { conn.close(); } catch (SQLException ex) { ex.printStackTrace(); }\n",
    "}\n",
    "```\n",
    "\n",
    "**Buenas prácticas:**\n",
    "- Siempre cerrar conexiones, sentencias y resultados.\n",
    "- Usar bloques `finally` o `try-with-resources` (Java 7+).\n"
   ]
  },
  {
   "cell_type": "markdown",
   "id": "3f3af653",
   "metadata": {},
   "source": [
    "\n",
    "## 7. Prueba y Verificación\n",
    "\n",
    "- Verifica que el contenedor de MySQL esté corriendo.\n",
    "- Accede desde terminal con `mysql -u SuPeRuSeR -p`.\n",
    "- Confirma que la tabla `alumnos` tiene datos con `SELECT * FROM alumnos;`.\n"
   ]
  },
  {
   "cell_type": "markdown",
   "id": "a69af353",
   "metadata": {},
   "source": [
    "\n",
    "## 8. Resumen\n",
    "\n",
    "Has aprendido a:\n",
    "- Configurar un entorno con Java y MySQL.\n",
    "- Crear y poblar una base de datos.\n",
    "- Conectarte desde Java y manejar errores.\n",
    "\n",
    "**Siguiente paso:** Realizar inserciones, actualizaciones y borrados desde Java.\n"
   ]
  }
 ],
 "metadata": {},
 "nbformat": 4,
 "nbformat_minor": 5
}
