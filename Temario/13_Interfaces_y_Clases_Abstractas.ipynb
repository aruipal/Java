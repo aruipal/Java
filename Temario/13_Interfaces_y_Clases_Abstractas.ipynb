{
 "cells": [
  {
   "cell_type": "markdown",
   "id": "ffa9fada",
   "metadata": {},
   "source": [
    "# Interfaces y Clases Abstractas en Java\n",
    "\n",
    "Resumen y ejemplos prácticos para clase."
   ]
  },
  {
   "cell_type": "markdown",
   "id": "c0996940",
   "metadata": {},
   "source": [
    "## 1. Introducción\n",
    "\n",
    "Las **clases abstractas** y las **interfaces** son herramientas clave en Java para definir comportamientos comunes y establecer reglas claras entre clases.\n",
    "\n",
    "- Las **clases abstractas** sirven como base para otras clases.\n",
    "- Las **interfaces** definen qué métodos deben implementarse.\n",
    "\n",
    "Ambas promueven la reutilización y el diseño limpio del software.\n"
   ]
  },
  {
   "cell_type": "markdown",
   "id": "9e9c394f",
   "metadata": {},
   "source": [
    "## 2. Clases Abstractas\n",
    "\n",
    "### ¿Qué es?\n",
    "\n",
    "Una clase abstracta es una clase que no puede instanciarse directamente y que sirve como modelo base para otras clases más específicas.\n",
    "\n",
    "### Características:\n",
    "- Se declara con `abstract`.\n",
    "- Puede tener métodos con y sin cuerpo.\n",
    "- Puede tener atributos y constructores.\n"
   ]
  },
  {
   "cell_type": "code",
   "execution_count": null,
   "id": "689c0629",
   "metadata": {},
   "outputs": [],
   "source": [
    "public abstract class Animal {\n",
    "    protected String nombre;\n",
    "\n",
    "    public Animal(String nombre) {\n",
    "        this.nombre = nombre;\n",
    "    }\n",
    "\n",
    "    public abstract void hacerSonido();\n",
    "\n",
    "    public void dormir() {\n",
    "        System.out.println(nombre + \" está durmiendo.\");\n",
    "    }\n",
    "}\n",
    "\n",
    "public class Perro extends Animal {\n",
    "    public Perro(String nombre) {\n",
    "        super(nombre);\n",
    "    }\n",
    "\n",
    "    @Override\n",
    "    public void hacerSonido() {\n",
    "        System.out.println(nombre + \" dice: ¡Guau!\");\n",
    "    }\n",
    "}\n",
    "\n",
    "public class Main {\n",
    "    public static void main(String[] args) {\n",
    "        Animal miPerro = new Perro(\"Bobby\");\n",
    "        miPerro.hacerSonido();\n",
    "        miPerro.dormir();\n",
    "    }\n",
    "}"
   ]
  },
  {
   "cell_type": "markdown",
   "id": "31e5ea77",
   "metadata": {},
   "source": [
    "## 3. Interfaces\n",
    "\n",
    "### ¿Qué es?\n",
    "\n",
    "Una interfaz es un contrato que define qué métodos debe implementar una clase, sin preocuparse por cómo.\n",
    "\n",
    "### Características:\n",
    "- Se declara con `interface`.\n",
    "- Todos los métodos son `public` y `abstract` por defecto.\n",
    "- Las clases pueden implementar varias interfaces.\n"
   ]
  },
  {
   "cell_type": "code",
   "execution_count": null,
   "id": "973d9090",
   "metadata": {},
   "outputs": [],
   "source": [
    "public interface Volador {\n",
    "    void volar();\n",
    "}\n",
    "\n",
    "public class Pajaro implements Volador {\n",
    "    @Override\n",
    "    public void volar() {\n",
    "        System.out.println(\"El pájaro vuela alto en el cielo.\");\n",
    "    }\n",
    "}\n",
    "\n",
    "public class Main {\n",
    "    public static void main(String[] args) {\n",
    "        Volador ave = new Pajaro();\n",
    "        ave.volar();\n",
    "    }\n",
    "}"
   ]
  },
  {
   "cell_type": "markdown",
   "id": "94e80fb2",
   "metadata": {},
   "source": [
    "## 4. Diferencias Clave\n",
    "\n",
    "| Característica               | Clase Abstracta            | Interfaz                        |\n",
    "|-----------------------------|-----------------------------|---------------------------------|\n",
    "| ¿Se puede instanciar?       | ❌ No                       | ❌ No                           |\n",
    "| ¿Puede tener atributos?     | ✅ Sí                       | ⚠ Solo constantes              |\n",
    "| ¿Métodos con implementación?| ✅ Sí                       | ✅ Desde Java 8 (`default`)     |\n",
    "| ¿Herencia múltiple?         | ❌ No                       | ✅ Sí                           |\n",
    "| ¿Constructor?               | ✅ Puede tener              | ❌ No                           |\n"
   ]
  },
  {
   "cell_type": "markdown",
   "id": "205c971d",
   "metadata": {},
   "source": [
    "## 5. Implementación múltiple de interfaces\n",
    "\n",
    "Una clase puede implementar varias interfaces a la vez.\n"
   ]
  },
  {
   "cell_type": "code",
   "execution_count": null,
   "id": "65600197",
   "metadata": {},
   "outputs": [],
   "source": [
    "public interface Volador {\n",
    "    void volar();\n",
    "}\n",
    "\n",
    "public interface Nadador {\n",
    "    void nadar();\n",
    "}\n",
    "\n",
    "public class Pato implements Volador, Nadador {\n",
    "    @Override\n",
    "    public void volar() {\n",
    "        System.out.println(\"El pato vuela bajo.\");\n",
    "    }\n",
    "\n",
    "    @Override\n",
    "    public void nadar() {\n",
    "        System.out.println(\"El pato nada en el lago.\");\n",
    "    }\n",
    "}\n",
    "\n",
    "public class Main {\n",
    "    public static void main(String[] args) {\n",
    "        Pato pato = new Pato();\n",
    "        pato.volar();\n",
    "        pato.nadar();\n",
    "    }\n",
    "}"
   ]
  },
  {
   "cell_type": "markdown",
   "id": "032a6310",
   "metadata": {},
   "source": [
    "## 6. Métodos `default` y `static` en interfaces (Java 8+)\n",
    "\n",
    "Desde Java 8, las interfaces pueden tener:\n",
    "\n",
    "- **Métodos `default`**: tienen implementación por defecto.\n",
    "- **Métodos `static`**: se invocan desde la interfaz.\n"
   ]
  },
  {
   "cell_type": "code",
   "execution_count": null,
   "id": "8345c70a",
   "metadata": {},
   "outputs": [],
   "source": [
    "public interface Saludo {\n",
    "    default void saludar() {\n",
    "        System.out.println(\"¡Hola desde la interfaz!\");\n",
    "    }\n",
    "\n",
    "    static void mensaje() {\n",
    "        System.out.println(\"Este es un método estático de la interfaz.\");\n",
    "    }\n",
    "}\n",
    "\n",
    "public class Persona implements Saludo {\n",
    "    // No es necesario sobrescribir saludar()\n",
    "}\n",
    "\n",
    "public class Main {\n",
    "    public static void main(String[] args) {\n",
    "        Persona p = new Persona();\n",
    "        p.saludar();\n",
    "\n",
    "        Saludo.mensaje();\n",
    "    }\n",
    "}"
   ]
  },
  {
   "cell_type": "markdown",
   "id": "57b2881e",
   "metadata": {},
   "source": [
    "## 7. ¿Cuándo usar clases abstractas o interfaces?\n",
    "\n",
    "| Situación                                      | Usa clase abstracta | Usa interfaz |\n",
    "|-----------------------------------------------|----------------------|--------------|\n",
    "| Compartir código común                        | ✅ Sí                | ❌ No        |\n",
    "| Forzar implementación de ciertos métodos      | ✅ Sí                | ✅ Sí        |\n",
    "| Heredar de múltiples fuentes                  | ❌ No                | ✅ Sí        |\n",
    "| Relación jerárquica entre clases (es un...)   | ✅ Sí                | ❌ No        |\n",
    "| Compartir comportamiento entre clases no relacionadas | ❌ No | ✅ Sí |\n"
   ]
  },
  {
   "cell_type": "markdown",
   "id": "022673be",
   "metadata": {},
   "source": [
    "## 8. Ejemplo completo combinando ambos conceptos"
   ]
  },
  {
   "cell_type": "code",
   "execution_count": null,
   "id": "e00ed7a7",
   "metadata": {},
   "outputs": [],
   "source": [
    "public abstract class Animal {\n",
    "    String nombre;\n",
    "\n",
    "    public Animal(String nombre) {\n",
    "        this.nombre = nombre;\n",
    "    }\n",
    "\n",
    "    public abstract void emitirSonido();\n",
    "}\n",
    "\n",
    "public interface Nadador {\n",
    "    void nadar();\n",
    "}\n",
    "\n",
    "public class Delfin extends Animal implements Nadador {\n",
    "    public Delfin(String nombre) {\n",
    "        super(nombre);\n",
    "    }\n",
    "\n",
    "    @Override\n",
    "    public void emitirSonido() {\n",
    "        System.out.println(nombre + \" emite un sonido agudo.\");\n",
    "    }\n",
    "\n",
    "    @Override\n",
    "    public void nadar() {\n",
    "        System.out.println(nombre + \" nada velozmente.\");\n",
    "    }\n",
    "}\n",
    "\n",
    "public class Main {\n",
    "    public static void main(String[] args) {\n",
    "        Delfin delfin = new Delfin(\"Flipper\");\n",
    "        delfin.emitirSonido();\n",
    "        delfin.nadar();\n",
    "    }\n",
    "}"
   ]
  },
  {
   "cell_type": "markdown",
   "id": "cb6cc6a6",
   "metadata": {},
   "source": [
    "## 9. Conclusión\n",
    "\n",
    "- Usa **clases abstractas** para definir una base común con algo de implementación.\n",
    "- Usa **interfaces** para definir comportamientos que se pueden compartir entre clases no relacionadas.\n",
    "- En sistemas grandes, su combinación permite un diseño más limpio, flexible y mantenible.\n"
   ]
  }
 ],
 "metadata": {},
 "nbformat": 4,
 "nbformat_minor": 5
}
