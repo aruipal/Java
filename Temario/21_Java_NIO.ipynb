{
 "cells": [
  {
   "cell_type": "markdown",
   "id": "a15f6b2f",
   "metadata": {},
   "source": [
    "# Introducción al uso de NIO (New Input/Output) en Java\n",
    "\n",
    "Resumen y ejemplos prácticos para clase."
   ]
  },
  {
   "cell_type": "markdown",
   "id": "14edc3f9",
   "metadata": {},
   "source": [
    "## 1. Introducción\n",
    "\n",
    "Java NIO (New Input/Output) es una API moderna que mejora la eficiencia y flexibilidad del manejo de archivos en comparación con las clases tradicionales de Java IO.\n",
    "\n",
    "### ¿Por qué usar NIO?\n",
    "- Mejor rendimiento en grandes volúmenes de datos.\n",
    "- Acceso asincrónico y no bloqueante.\n",
    "- API más expresiva y moderna.\n",
    "- Mejor manejo de archivos, directorios y rutas.\n",
    "\n",
    "Java NIO incluye clases como `Path`, `Paths` y `Files`, que simplifican operaciones comunes con archivos.\n"
   ]
  },
  {
   "cell_type": "markdown",
   "id": "603455f2",
   "metadata": {},
   "source": [
    "## 2. Comparativa: IO Clásico vs NIO\n",
    "\n",
    "| Característica         | Java IO Clásico     | Java NIO Moderno           |\n",
    "|------------------------|---------------------|-----------------------------|\n",
    "| Enfoque                | Flujo (Stream)      | Buffer (bloques)           |\n",
    "| Bloqueo                | Sí                  | Puede ser no bloqueante    |\n",
    "| Lectura/Escritura      | Secuencial          | Aleatoria o directa        |\n",
    "| Acceso a múltiples canales | No              | Sí                         |\n",
    "| API para archivos      | Limitada            | Completa (`Files`, `Path`) |\n"
   ]
  },
  {
   "cell_type": "markdown",
   "id": "05dd1ab5",
   "metadata": {},
   "source": [
    "## 3. Clases clave en NIO\n",
    "\n",
    "- **Path**: representa rutas de archivos o directorios.\n",
    "- **Paths**: clase utilitaria para crear objetos `Path`.\n",
    "- **Files**: contiene métodos para trabajar con archivos y directorios (leer, escribir, copiar, borrar, etc.).\n",
    "\n",
    "Estas clases están en el paquete `java.nio.file`.\n"
   ]
  },
  {
   "cell_type": "markdown",
   "id": "49bfff7b",
   "metadata": {},
   "source": [
    "## 4. Leer archivos con NIO\n",
    "\n",
    "Leer el contenido completo de un archivo de texto:\n",
    "\n",
    "```java\n",
    "import java.nio.file.*;\n",
    "import java.io.IOException;\n",
    "\n",
    "public class LeerArchivoNIO {\n",
    "    public static void main(String[] args) {\n",
    "        Path ruta = Paths.get(\"ejemplo.txt\");\n",
    "        try {\n",
    "            String contenido = Files.readString(ruta);\n",
    "            System.out.println(contenido);\n",
    "        } catch (IOException e) {\n",
    "            System.out.println(\"Error al leer el archivo: \" + e.getMessage());\n",
    "        }\n",
    "    }\n",
    "}\n",
    "```"
   ]
  },
  {
   "cell_type": "markdown",
   "id": "52bd0bd5",
   "metadata": {},
   "source": [
    "## 5. Escribir archivos con NIO\n",
    "\n",
    "```java\n",
    "import java.nio.file.*;\n",
    "import java.io.IOException;\n",
    "\n",
    "public class EscribirArchivoNIO {\n",
    "    public static void main(String[] args) {\n",
    "        Path ruta = Paths.get(\"salida.txt\");\n",
    "        String contenido = \"Este es el contenido del archivo.\";\n",
    "        try {\n",
    "            Files.writeString(ruta, contenido);\n",
    "            System.out.println(\"Archivo escrito correctamente.\");\n",
    "        } catch (IOException e) {\n",
    "            System.out.println(\"Error al escribir en el archivo: \" + e.getMessage());\n",
    "        }\n",
    "    }\n",
    "}\n",
    "```\n",
    "\n",
    "📌 También se puede usar `StandardOpenOption.APPEND` para agregar contenido sin sobrescribir.\n"
   ]
  },
  {
   "cell_type": "markdown",
   "id": "84ee460a",
   "metadata": {},
   "source": [
    "## 6. Otras operaciones con Files\n",
    "\n",
    "```java\n",
    "// Comprobar si existe un archivo\n",
    "boolean existe = Files.exists(Paths.get(\"archivo.txt\"));\n",
    "\n",
    "// Copiar un archivo\n",
    "Files.copy(\n",
    "    Paths.get(\"origen.txt\"),\n",
    "    Paths.get(\"destino.txt\"),\n",
    "    StandardCopyOption.REPLACE_EXISTING\n",
    ");\n",
    "\n",
    "// Borrar archivo si existe\n",
    "Files.deleteIfExists(Paths.get(\"archivo_a_borrar.txt\"));\n",
    "\n",
    "// Crear directorios con subdirectorios\n",
    "Files.createDirectories(Paths.get(\"nueva/carpeta/subcarpeta\"));\n",
    "\n",
    "// Leer todas las líneas de un archivo\n",
    "List<String> lineas = Files.readAllLines(Paths.get(\"datos.txt\"));\n",
    "for (String linea : lineas) {\n",
    "    System.out.println(linea);\n",
    "}\n",
    "```\n",
    "\n",
    "Estas operaciones son útiles para automatizar tareas como instalación de carpetas, mantenimiento de configuraciones, etc.\n"
   ]
  },
  {
   "cell_type": "markdown",
   "id": "8158b0c1",
   "metadata": {},
   "source": [
    "## 7. Ventajas de usar NIO\n",
    "\n",
    "✅ Sintaxis clara y moderna  \n",
    "✅ Soporte para rutas y directorios multiplataforma  \n",
    "✅ Escalable para aplicaciones complejas  \n",
    "✅ Productividad: menos código para tareas comunes  \n",
    "✅ Preparado para futuras mejoras: NIO asincrónico, `WatchService`, etc.\n"
   ]
  },
  {
   "cell_type": "markdown",
   "id": "8e2e4251",
   "metadata": {},
   "source": [
    "## 8. Conclusión\n",
    "\n",
    "Java NIO representa una evolución en el manejo de archivos y directorios. Su sintaxis moderna, eficiencia y flexibilidad lo convierten en la opción recomendada para nuevos proyectos o para mejorar aplicaciones existentes que requieren trabajar con el sistema de archivos.\n"
   ]
  }
 ],
 "metadata": {},
 "nbformat": 4,
 "nbformat_minor": 5
}
