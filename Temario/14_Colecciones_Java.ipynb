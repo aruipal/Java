{
 "cells": [
  {
   "cell_type": "markdown",
   "id": "6fc52079",
   "metadata": {},
   "source": [
    "# Colecciones en Java: ArrayList, HashSet y HashMap\n",
    "\n",
    "Resumen y ejemplos prácticos para clase."
   ]
  },
  {
   "cell_type": "markdown",
   "id": "ff1560c7",
   "metadata": {},
   "source": [
    "## 1. Introducción\n",
    "\n",
    "Las colecciones permiten trabajar con grupos de datos de forma dinámica y flexible. Son más potentes que los arrays tradicionales.\n",
    "\n",
    "### Tipos principales:\n",
    "- **ArrayList**: Lista ordenada que permite duplicados.\n",
    "- **HashSet**: Conjunto sin elementos duplicados ni orden garantizado.\n",
    "- **HashMap**: Diccionario que almacena pares clave → valor.\n"
   ]
  },
  {
   "cell_type": "markdown",
   "id": "ae71d895",
   "metadata": {},
   "source": [
    "## 2. ¿Qué es una colección?\n",
    "\n",
    "Una colección es un objeto que agrupa múltiples elementos.\n",
    "\n",
    "### Ventajas:\n",
    "- Tamaño dinámico.\n",
    "- Métodos para añadir, eliminar, buscar y recorrer.\n",
    "- Mejora la legibilidad y mantenimiento del código.\n",
    "\n",
    "Para usarlas:  \n",
    "```java\n",
    "import java.util.*;\n",
    "```"
   ]
  },
  {
   "cell_type": "markdown",
   "id": "a7ace0aa",
   "metadata": {},
   "source": [
    "## 3. ArrayList: Listas dinámicas y ordenadas\n",
    "\n",
    "Una `ArrayList` permite almacenar elementos en orden, acceder por índice y aceptar duplicados.\n",
    "\n",
    "### Características:\n",
    "- Mantiene el orden de inserción.\n",
    "- Permite elementos duplicados.\n",
    "- Acceso por índice.\n"
   ]
  },
  {
   "cell_type": "code",
   "execution_count": null,
   "id": "46390299",
   "metadata": {},
   "outputs": [],
   "source": [
    "import java.util.ArrayList;\n",
    "\n",
    "public class EjemploArrayList {\n",
    "    public static void main(String[] args) {\n",
    "        ArrayList<String> nombres = new ArrayList<>();\n",
    "\n",
    "        // Añadir elementos\n",
    "        nombres.add(\"Lucía\");\n",
    "        nombres.add(\"Carlos\");\n",
    "        nombres.add(\"María\");\n",
    "        nombres.add(\"Lucía\"); // Permitido\n",
    "\n",
    "        // Mostrar todos\n",
    "        for (String nombre : nombres) {\n",
    "            System.out.println(nombre);\n",
    "        }\n",
    "\n",
    "        // Acceder por índice\n",
    "        System.out.println(\"Elemento en posición 1: \" + nombres.get(1));\n",
    "\n",
    "        // Eliminar\n",
    "        nombres.remove(\"Carlos\");\n",
    "\n",
    "        // Buscar\n",
    "        if (nombres.contains(\"Lucía\")) {\n",
    "            System.out.println(\"Lucía está en la lista.\");\n",
    "        }\n",
    "\n",
    "        // Tamaño\n",
    "        System.out.println(\"Tamaño de la lista: \" + nombres.size());\n",
    "    }\n",
    "}"
   ]
  },
  {
   "cell_type": "markdown",
   "id": "dab5d98c",
   "metadata": {},
   "source": [
    "## 4. HashSet: Conjunto sin duplicados\n",
    "\n",
    "`HashSet` almacena elementos únicos y no garantiza orden.\n",
    "\n",
    "### Características:\n",
    "- No permite duplicados.\n",
    "- No mantiene orden.\n"
   ]
  },
  {
   "cell_type": "code",
   "execution_count": null,
   "id": "d4c09dc5",
   "metadata": {},
   "outputs": [],
   "source": [
    "import java.util.HashSet;\n",
    "\n",
    "public class EjemploHashSet {\n",
    "    public static void main(String[] args) {\n",
    "        HashSet<String> colores = new HashSet<>();\n",
    "\n",
    "        colores.add(\"Rojo\");\n",
    "        colores.add(\"Azul\");\n",
    "        colores.add(\"Verde\");\n",
    "        colores.add(\"Rojo\"); // No se añade\n",
    "\n",
    "        for (String color : colores) {\n",
    "            System.out.println(color);\n",
    "        }\n",
    "\n",
    "        if (colores.contains(\"Azul\")) {\n",
    "            System.out.println(\"El color Azul está presente.\");\n",
    "        }\n",
    "\n",
    "        colores.remove(\"Verde\");\n",
    "\n",
    "        System.out.println(\"Número de colores: \" + colores.size());\n",
    "    }\n",
    "}"
   ]
  },
  {
   "cell_type": "markdown",
   "id": "ce59c49c",
   "metadata": {},
   "source": [
    "## 5. HashMap: Diccionario clave → valor\n",
    "\n",
    "`HashMap` permite asociar claves únicas a valores.\n",
    "\n",
    "### Características:\n",
    "- Acceso por clave.\n",
    "- Claves únicas, valores pueden repetirse.\n"
   ]
  },
  {
   "cell_type": "code",
   "execution_count": null,
   "id": "460b7058",
   "metadata": {},
   "outputs": [],
   "source": [
    "import java.util.HashMap;\n",
    "\n",
    "public class EjemploHashMap {\n",
    "    public static void main(String[] args) {\n",
    "        HashMap<String, Integer> edades = new HashMap<>();\n",
    "\n",
    "        edades.put(\"Lucía\", 28);\n",
    "        edades.put(\"Carlos\", 35);\n",
    "        edades.put(\"María\", 22);\n",
    "\n",
    "        // Acceder\n",
    "        System.out.println(\"Edad de Carlos: \" + edades.get(\"Carlos\"));\n",
    "\n",
    "        // Recorrer\n",
    "        for (String nombre : edades.keySet()) {\n",
    "            System.out.println(nombre + \" tiene \" + edades.get(nombre) + \" años.\");\n",
    "        }\n",
    "\n",
    "        // Verificar\n",
    "        if (edades.containsKey(\"Lucía\")) {\n",
    "            System.out.println(\"Lucía está registrada.\");\n",
    "        }\n",
    "\n",
    "        // Eliminar\n",
    "        edades.remove(\"María\");\n",
    "    }\n",
    "}"
   ]
  },
  {
   "cell_type": "markdown",
   "id": "6c472707",
   "metadata": {},
   "source": [
    "## 6. ¿Cuándo usar cada tipo?\n",
    "\n",
    "| Colección  | Ideal para...                                       |\n",
    "|------------|-----------------------------------------------------|\n",
    "| ArrayList  | Listas ordenadas, acceso por índice, permite duplicados. |\n",
    "| HashSet    | Conjuntos únicos, sin orden.                        |\n",
    "| HashMap    | Asociar claves a valores (tipo diccionario).        |\n"
   ]
  },
  {
   "cell_type": "markdown",
   "id": "3c4aec28",
   "metadata": {},
   "source": [
    "## 7. Comparación visual\n",
    "\n",
    "| Característica       | ArrayList | HashSet | HashMap           |\n",
    "|----------------------|-----------|---------|--------------------|\n",
    "| Orden de elementos   | ✅ Sí     | ❌ No   | ❌ No              |\n",
    "| Permite duplicados   | ✅ Sí     | ❌ No   | ✅ Valores sí      |\n",
    "| Acceso por índice    | ✅ Sí     | ❌ No   | ❌ No              |\n",
    "| Acceso por clave     | ❌ No     | ❌ No   | ✅ Sí              |\n",
    "| Estructura recomendada| Lista    | Conjunto| Diccionario        |\n"
   ]
  },
  {
   "cell_type": "markdown",
   "id": "e9e1f36b",
   "metadata": {},
   "source": [
    "## 8. Buenas prácticas con colecciones\n",
    "\n",
    "- Usa genéricos: `ArrayList<String>`, `HashMap<String, Integer>`.\n",
    "- Prefiere `for-each` para recorrer.\n",
    "- Verifica existencia con `contains()` o `containsKey()` antes de acceder.\n",
    "- Elige la colección según necesidad:\n",
    "  - ¿Orden y duplicados? ➝ ArrayList\n",
    "  - ¿Únicos sin orden? ➝ HashSet\n",
    "  - ¿Claves y valores? ➝ HashMap\n"
   ]
  }
 ],
 "metadata": {
  "kernelspec": {
   "display_name": "Java",
   "language": "java",
   "name": "java"
  },
  "language_info": {
   "name": ""
  }
 },
 "nbformat": 4,
 "nbformat_minor": 5
}
