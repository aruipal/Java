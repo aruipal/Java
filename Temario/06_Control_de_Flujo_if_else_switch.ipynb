{
  "cells": [
    {
      "cell_type": "markdown",
      "metadata": {},
      "source": [
        "# Control de Flujo: if, else, switch en Java\n",
        "Este notebook explica cómo controlar el flujo de un programa usando estructuras condicionales como `if`, `else` y `switch`."
      ]
    },
    {
      "cell_type": "markdown",
      "metadata": {},
      "source": [
        "## ¿Qué es el control de flujo?\n",
        "Permite que el programa tome decisiones y siga caminos distintos según condiciones evaluadas."
      ]
    },
    {
      "cell_type": "code",
      "metadata": {},
      "source": [
        "int edad = 20;\n",
        "if (edad >= 18) {\n",
        "    System.out.println(\"Eres mayor de edad.\");\n",
        "}"
      ],
      "execution_count": null,
      "outputs": []
    },
    {
      "cell_type": "markdown",
      "metadata": {},
      "source": [
        "## Sentencia if"
      ]
    },
    {
      "cell_type": "code",
      "metadata": {},
      "source": [
        "int nota = 90;\n",
        "if (nota >= 50) {\n",
        "    System.out.println(\"Has aprobado.\");\n",
        "}"
      ],
      "execution_count": null,
      "outputs": []
    },
    {
      "cell_type": "markdown",
      "metadata": {},
      "source": [
        "## Sentencia if-else"
      ]
    },
    {
      "cell_type": "code",
      "metadata": {},
      "source": [
        "int hora = 10;\n",
        "if (hora < 12) {\n",
        "    System.out.println(\"Buenos días.\");\n",
        "} else {\n",
        "    System.out.println(\"Buenas tardes.\");\n",
        "}"
      ],
      "execution_count": null,
      "outputs": []
    },
    {
      "cell_type": "markdown",
      "metadata": {},
      "source": [
        "## Sentencia if-else if"
      ]
    },
    {
      "cell_type": "code",
      "metadata": {},
      "source": [
        "int nota = 85;\n",
        "if (nota >= 90) {\n",
        "    System.out.println(\"Sobresaliente\");\n",
        "} else if (nota >= 80) {\n",
        "    System.out.println(\"Notable\");\n",
        "} else if (nota >= 70) {\n",
        "    System.out.println(\"Aprobado\");\n",
        "} else {\n",
        "    System.out.println(\"Suspenso\");\n",
        "}"
      ],
      "execution_count": null,
      "outputs": []
    },
    {
      "cell_type": "markdown",
      "metadata": {},
      "source": [
        "## Sentencia switch"
      ]
    },
    {
      "cell_type": "code",
      "metadata": {},
      "source": [
        "int dia = 3;\n",
        "switch (dia) {\n",
        "    case 1:\n",
        "        System.out.println(\"Lunes\");\n",
        "        break;\n",
        "    case 2:\n",
        "        System.out.println(\"Martes\");\n",
        "        break;\n",
        "    case 3:\n",
        "        System.out.println(\"Miércoles\");\n",
        "        break;\n",
        "    case 4:\n",
        "        System.out.println(\"Jueves\");\n",
        "        break;\n",
        "    case 5:\n",
        "        System.out.println(\"Viernes\");\n",
        "        break;\n",
        "    case 6:\n",
        "        System.out.println(\"Sábado\");\n",
        "        break;\n",
        "    case 7:\n",
        "        System.out.println(\"Domingo\");\n",
        "        break;\n",
        "    default:\n",
        "        System.out.println(\"Día no válido\");\n",
        "        break;\n",
        "}"
      ],
      "execution_count": null,
      "outputs": []
    },
    {
      "cell_type": "markdown",
      "metadata": {},
      "source": [
        "# 🧠 Ejercicios Propuestos\n",
        "### 1. Escribe un programa que diga si un número es positivo, negativo o cero usando `if-else-if`.\n",
        "```java\n// Tu código aquí\n```\n",
        "### 2. Crea una estructura `if-else` que imprima \"Es par\" si un número es divisible por 2.\n",
        "```java\n// Tu código aquí\n```\n",
        "### 3. Utiliza `switch` para imprimir el nombre del mes dado un número del 1 al 12.\n",
        "```java\n// Tu código aquí\n```\n",
        "### 4. Escribe un programa que evalúe una nota del 0 al 100 y devuelva \"Excelente\", \"Bueno\", \"Regular\" o \"Insuficiente\".\n",
        "```java\n// Tu código aquí\n```\n",
        "### 5. Usa un `if` para mostrar un mensaje si una persona puede votar (mayor de 18).\n",
        "```java\n// Tu código aquí\n```"
      ]
    }
  ],
  "metadata": {
    "kernelspec": {
      "name": "java",
      "language": "java",
      "display_name": "Java"
    },
    "language_info": {
      "name": "java"
    }
  },
  "nbformat": 4,
  "nbformat_minor": 2
}